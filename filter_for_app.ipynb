{
 "cells": [
  {
   "cell_type": "code",
   "execution_count": null,
   "metadata": {},
   "outputs": [],
   "source": []
  },
  {
   "cell_type": "code",
   "execution_count": null,
   "metadata": {},
   "outputs": [],
   "source": []
  },
  {
   "cell_type": "code",
   "execution_count": null,
   "metadata": {},
   "outputs": [],
   "source": []
  },
  {
   "cell_type": "code",
   "execution_count": null,
   "metadata": {},
   "outputs": [],
   "source": [
    "def visa_filter(returned_country, returned_year, returned_month, returned_visa_type):\n",
    "    \"\"\"filter the master_df.csv based on the given filters\"\"\"\n",
    "\n",
    "    def wrangle_master_df():\n",
    "        \"\"\" wrangle master_df for convenient filtering\"\"\"\n",
    "\n",
    "        import pandas as pd\n",
    "        master_df = pd.read_csv('data_cleaning/master_df.csv', index_col='date')\n",
    "        # Filtering data from master_df\n",
    "        # - creating columns year and month out of the date index\n",
    "        master_df.reset_index(inplace=True)  # convert index column:date to regular column:date\n",
    "        master_df['date'] = pd.to_datetime(master_df['date'])  # convert datatype from string to datetime\n",
    "        master_df['year'] = pd.DatetimeIndex(master_df['date']).year  # extract year number\n",
    "        master_df['month'] = pd.DatetimeIndex(master_df['date']).month  # extract month number\n",
    "        master_df['month'] = pd.to_datetime(master_df['month'],\n",
    "                                            format='%m').dt.month_name()  # convert month number to month name\n",
    "        master_df['month'] = master_df['month'].str.lower()  # lower case month names for consistency\n",
    "        master_df.set_index('date', inplace=True)  # assign column:date as index\n",
    "        return master_df\n",
    "\n",
    "    def filtering():\n",
    "        \"\"\" actual filtering\"\"\"\n",
    "        master_df = wrangle_master_df()\n",
    "        result = master_df.copy().reset_index(drop=True) # drop the datetime index\n",
    "        cols = list(result.columns)\n",
    "\n",
    "        if returned_country != 'all':\n",
    "            result = result[result['country'] == returned_country]\n",
    "            cols.remove('country')\n",
    "\n",
    "        if returned_month != 'all':\n",
    "            result = result[result['month'] == returned_month]\n",
    "            cols.remove('month')\n",
    "\n",
    "        if returned_year != 'all':\n",
    "            result = result[result['year'] == int(returned_year)]\n",
    "            cols.remove('year')\n",
    "\n",
    "        if returned_visa_type != 'all':\n",
    "            result = result[result['visa_type'] == returned_visa_type]\n",
    "            cols.remove('visa_type')\n",
    "\n",
    "        result = result[cols].reset_index(drop=True)\n",
    "        return result\n",
    "\n",
    "    return filtering()  # returns a DataFrame\n"
   ]
  }
 ],
 "metadata": {
  "kernelspec": {
   "display_name": "Python 3",
   "language": "python",
   "name": "python3"
  },
  "language_info": {
   "codemirror_mode": {
    "name": "ipython",
    "version": 3
   },
   "file_extension": ".py",
   "mimetype": "text/x-python",
   "name": "python",
   "nbconvert_exporter": "python",
   "pygments_lexer": "ipython3",
   "version": "3.8.3"
  }
 },
 "nbformat": 4,
 "nbformat_minor": 4
}

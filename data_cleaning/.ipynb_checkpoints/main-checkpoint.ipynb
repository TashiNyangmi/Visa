{
 "cells": [
  {
   "cell_type": "markdown",
   "metadata": {},
   "source": [
    "Visa\\Data_Cleaning\\"
   ]
  },
  {
   "cell_type": "markdown",
   "metadata": {},
   "source": [
    "## Library Imports"
   ]
  },
  {
   "cell_type": "code",
   "execution_count": 104,
   "metadata": {},
   "outputs": [],
   "source": [
    "import os\n",
    "\n",
    "# importing UDFs\n",
    "from pdf_downloader import pdf_downloader\n",
    "from pdf_to_csv import pdf_to_csv\n",
    "from csv_clean import csv_clean"
   ]
  },
  {
   "cell_type": "code",
   "execution_count": 4,
   "metadata": {},
   "outputs": [],
   "source": [
    "from file_names import file_names # list of file_names that update with current date/year"
   ]
  },
  {
   "cell_type": "markdown",
   "metadata": {},
   "source": [
    "## User Defined Functions"
   ]
  },
  {
   "cell_type": "code",
   "execution_count": 27,
   "metadata": {},
   "outputs": [],
   "source": [
    "def local_files (path = '.', no_extension = True):\n",
    "    \"\"\"list of files in local machine\"\"\"\n",
    "    dir_file_names = []\n",
    "    with os.scandir(path = path) as entries:\n",
    "        for entry in entries:\n",
    "            dir_file_names.append(entry.name)\n",
    "    if no_extension == True:\n",
    "        dir_file_names = [name[:-4] for name in dir_file_names] # stripping the extension\n",
    "    return dir_file_names"
   ]
  },
  {
   "cell_type": "code",
   "execution_count": 68,
   "metadata": {},
   "outputs": [],
   "source": [
    "def list_difference(big_list, small_list):\n",
    "    \"\"\"returns difference of two lists\"\"\"\n",
    "    difference = []\n",
    "    for b in big_list:\n",
    "        if b not in small_list:\n",
    "            difference.append(b)\n",
    "    return difference\n",
    "\n",
    "# Refactor:can use list comprehension here"
   ]
  },
  {
   "cell_type": "markdown",
   "metadata": {},
   "source": [
    "### PDF Downloader"
   ]
  },
  {
   "cell_type": "code",
   "execution_count": 89,
   "metadata": {},
   "outputs": [],
   "source": [
    "target_dir = 'pdf_raw'"
   ]
  },
  {
   "cell_type": "code",
   "execution_count": 90,
   "metadata": {},
   "outputs": [],
   "source": [
    "have_files = local_files(path = target_dir)"
   ]
  },
  {
   "cell_type": "code",
   "execution_count": 91,
   "metadata": {
    "collapsed": true
   },
   "outputs": [
    {
     "data": {
      "text/plain": [
       "['december_2020', 'january_2021']"
      ]
     },
     "execution_count": 91,
     "metadata": {},
     "output_type": "execute_result"
    }
   ],
   "source": [
    "url = \"https://travel.state.gov/content/travel/en/legal/visa-law0/visa-statistics/nonimmigrant-visa-statistics/monthly-nonimmigrant-visa-issuances.html\"\n",
    "folder_location = r'C:\\Users\\Tashi Nyangmi\\Desktop\\visa\\data_cleaning\\pdf_raw'\n",
    "download_list = list_difference(file_names, have_files)\n",
    "\n",
    "download_list"
   ]
  },
  {
   "cell_type": "code",
   "execution_count": 92,
   "metadata": {
    "collapsed": true
   },
   "outputs": [
    {
     "name": "stdout",
     "output_type": "stream",
     "text": [
      "All files downloaded\n"
     ]
    }
   ],
   "source": [
    "# downloading PDFs\n",
    "pdf_downloader(url = url, folder_location = folder_location, download_list = download_list) # imported from a .py file"
   ]
  },
  {
   "cell_type": "markdown",
   "metadata": {},
   "source": [
    "### PDF to CSV Converter"
   ]
  },
  {
   "cell_type": "code",
   "execution_count": 115,
   "metadata": {},
   "outputs": [],
   "source": [
    "source_dir = 'pdf_raw'\n",
    "target_dir = 'csv_raw'"
   ]
  },
  {
   "cell_type": "code",
   "execution_count": 116,
   "metadata": {},
   "outputs": [],
   "source": [
    "source_files = local_files(path = source_dir)\n",
    "target_files = local_files(path = target_dir)"
   ]
  },
  {
   "cell_type": "code",
   "execution_count": 117,
   "metadata": {},
   "outputs": [
    {
     "data": {
      "text/plain": [
       "[]"
      ]
     },
     "execution_count": 117,
     "metadata": {},
     "output_type": "execute_result"
    }
   ],
   "source": [
    "convert_list = list_difference(source_files, target_files)\n",
    "convert_list"
   ]
  },
  {
   "cell_type": "code",
   "execution_count": 118,
   "metadata": {},
   "outputs": [],
   "source": [
    "#  Converting pdf_raw to csv_raw\n",
    "for file_name in convert_list:\n",
    "    input_file = f'{source_dir}/{file_name}.pdf'\n",
    "    output_file = f'{target_dir}/{file_name}.csv'\n",
    "    print(f'Converting {file_name[:20]} from pdf_raw to csv_raw')\n",
    "    pdf_to_csv(input_file=input_file, output_file=output_file)\n",
    "    print(\"------------------------------------------------\")"
   ]
  },
  {
   "cell_type": "markdown",
   "metadata": {},
   "source": [
    "### Clean CSV ( csv_raw to csv_clean)"
   ]
  },
  {
   "cell_type": "code",
   "execution_count": 120,
   "metadata": {},
   "outputs": [],
   "source": [
    "source_dir = 'csv_raw'\n",
    "target_dir = 'csv_clean'"
   ]
  },
  {
   "cell_type": "code",
   "execution_count": 121,
   "metadata": {},
   "outputs": [],
   "source": [
    "source_files = local_files(path = source_dir)\n",
    "target_files = local_files(path = target_dir)"
   ]
  },
  {
   "cell_type": "code",
   "execution_count": 122,
   "metadata": {},
   "outputs": [
    {
     "data": {
      "text/plain": [
       "[]"
      ]
     },
     "execution_count": 122,
     "metadata": {},
     "output_type": "execute_result"
    }
   ],
   "source": [
    "convert_list = list_difference(source_files, target_files)\n",
    "convert_list"
   ]
  },
  {
   "cell_type": "code",
   "execution_count": 123,
   "metadata": {},
   "outputs": [],
   "source": [
    "#  Converting csv_raw to csv_clean\n",
    "for file_name in convert_list:\n",
    "    input_file = f'{source_dir}/{file_name}.csv'\n",
    "    output_file = f'{target_dir}/{file_name}.csv'\n",
    "    print(f'Converting {file_name[:20]} from csv_raw to csv_clean')\n",
    "    try:\n",
    "        csv_clean(input_file=input_file, output_file=output_file)\n",
    "        print(\"pdf cleaning successful for \", file_name[:20])\n",
    "    except:\n",
    "        print(\"File not found\")\n",
    "    print(\"=================================================\")\n",
    "    print('                                                 ')"
   ]
  },
  {
   "cell_type": "code",
   "execution_count": null,
   "metadata": {},
   "outputs": [],
   "source": []
  }
 ],
 "metadata": {
  "kernelspec": {
   "display_name": "Python 3",
   "language": "python",
   "name": "python3"
  },
  "language_info": {
   "codemirror_mode": {
    "name": "ipython",
    "version": 3
   },
   "file_extension": ".py",
   "mimetype": "text/x-python",
   "name": "python",
   "nbconvert_exporter": "python",
   "pygments_lexer": "ipython3",
   "version": "3.8.3"
  }
 },
 "nbformat": 4,
 "nbformat_minor": 4
}

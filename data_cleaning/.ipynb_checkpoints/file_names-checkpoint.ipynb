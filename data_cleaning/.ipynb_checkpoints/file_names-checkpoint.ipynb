{
 "cells": [
  {
   "cell_type": "code",
   "execution_count": 1,
   "metadata": {},
   "outputs": [],
   "source": [
    "# Generating names of all pdf files starting March 2017 until current month -1.\n",
    "\n",
    "# libraries\n",
    "import pandas as pd\n",
    "from datetime import datetime\n",
    "\n",
    "currentDay = datetime.now().day\n",
    "currentMonth = datetime.now().month\n",
    "currentYear = datetime.now().year\n"
   ]
  },
  {
   "cell_type": "code",
   "execution_count": 12,
   "metadata": {},
   "outputs": [],
   "source": [
    "s_year = 2017\n",
    "e_year = currentYear\n",
    "years = list(range(s_year, e_year + 1))  # e_year +1 because range is non inclusive of the ending number\n",
    "\n",
    "months = ['january', 'february', 'march', 'april', 'may', 'june', 'july',\n",
    "          'august', 'september', 'october', 'november', 'december']\n",
    "e_month = months[currentMonth-1] # from int to str, -1 because of zero indexing"
   ]
  },
  {
   "cell_type": "code",
   "execution_count": 16,
   "metadata": {},
   "outputs": [],
   "source": [
    "file_names = [] # initialize a empty list of dataframes\n",
    "\n",
    "for year in years:\n",
    "    for month in months:\n",
    "        file_name = f'{month}_{year}'\n",
    "        file_names.append(file_name)\n",
    "        if (year == e_year) and (month == e_month):\n",
    "            break\n",
    "            \n",
    "# file names to remove\n",
    "missing = ['january_2017', 'february_2017'] # data starts at march 2017 in the target webpage\n",
    "\n",
    "for elem in missing:\n",
    "    file_names.remove(elem)"
   ]
  },
  {
   "cell_type": "code",
   "execution_count": null,
   "metadata": {},
   "outputs": [],
   "source": [
    "# saving the list:file_names as dict >> DataFrame >> CSV\n",
    "file_names_dict = {'col1': file_names}\n",
    "df = pd.DataFrame(file_names_dict)\n",
    "df.to_csv('file_names.csv', sep=',', index=False)"
   ]
  }
 ],
 "metadata": {
  "kernelspec": {
   "display_name": "Python 3",
   "language": "python",
   "name": "python3"
  },
  "language_info": {
   "codemirror_mode": {
    "name": "ipython",
    "version": 3
   },
   "file_extension": ".py",
   "mimetype": "text/x-python",
   "name": "python",
   "nbconvert_exporter": "python",
   "pygments_lexer": "ipython3",
   "version": "3.8.3"
  }
 },
 "nbformat": 4,
 "nbformat_minor": 4
}

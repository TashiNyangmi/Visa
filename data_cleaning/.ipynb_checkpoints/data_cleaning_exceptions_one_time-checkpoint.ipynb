{
 "cells": [
  {
   "cell_type": "code",
   "execution_count": 10,
   "metadata": {},
   "outputs": [],
   "source": [
    "# for april 2017, for Sudan, column:country was NaN, and column:visa_type had Sundan prefixed to visa type\n",
    "# Solution:\n",
    "# first strip Sudan out of the visa type\n",
    "# second repalce NAN's with Sudan\n",
    "# **Resolved** in ipynb: data_cleaning_expception_one_time"
   ]
  },
  {
   "cell_type": "code",
   "execution_count": null,
   "metadata": {},
   "outputs": [],
   "source": [
    "import pandas as pd\n",
    "import numpy as np\n",
    "\n",
    "df = pd.read_csv('master_df.csv', index_col = 'date', parse_dates = True)\n",
    "df['visa_type'] = np.where(df['country'].isna(), df['visa_type'].str.strip(\"Sudan\"), df['visa_type'])\n",
    "df['country'] = np.where(df['country'].isna(), \"Sudan\", df['country'])\n",
    "\n",
    "df.to_csv('master_df.csv')"
   ]
  }
 ],
 "metadata": {
  "kernelspec": {
   "display_name": "Python 3",
   "language": "python",
   "name": "python3"
  },
  "language_info": {
   "codemirror_mode": {
    "name": "ipython",
    "version": 3
   },
   "file_extension": ".py",
   "mimetype": "text/x-python",
   "name": "python",
   "nbconvert_exporter": "python",
   "pygments_lexer": "ipython3",
   "version": "3.8.3"
  }
 },
 "nbformat": 4,
 "nbformat_minor": 4
}

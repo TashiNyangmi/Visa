{
 "cells": [
  {
   "cell_type": "markdown",
   "metadata": {},
   "source": [
    "Few issues in place"
   ]
  },
  {
   "cell_type": "code",
   "execution_count": 12,
   "metadata": {},
   "outputs": [],
   "source": [
    "import pandas as pd\n",
    "import datetime as dt"
   ]
  },
  {
   "cell_type": "code",
   "execution_count": 3,
   "metadata": {},
   "outputs": [],
   "source": [
    "file_names = pd.read_csv('file_names.csv')\n",
    "file_names = file_names['col1']\n",
    "\n",
    "file_names[11] = 'december%202017%20-%20NIV%20Issuances%20by%20Nationlity%20and%20Visa%20Class'\n",
    "\n",
    "# october2019: replace '202019%20-%20NIVw/ '202019%20NIV'\n",
    "file_names[33] = 'october%202019%20NIV%20Issuances%20by%20Nationality%20and%20Visa%20Class'\n",
    "\n",
    "# september2020: replace 'SEPTEMBER' w/ 'SEPT'\n",
    "file_names[44] = 'sept%202020%20-%20NIV%20Issuances%20by%20Nationality%20and%20Visa%20Class'\n",
    "\n",
    "\n",
    "# 2) missing months:\n",
    "\n",
    "# drop jan2017 and feb 2017 because fiscal year starts March\n",
    "# drop nov 2020 because origin website has not updated yet\n",
    "file_names = file_names[2:-1]  # omitting first 2 elements and the last element\n",
    "\n",
    "# fix indices\n",
    "indices = range(0, len(file_names))\n",
    "file_names.index = indices"
   ]
  },
  {
   "cell_type": "code",
   "execution_count": 8,
   "metadata": {},
   "outputs": [
    {
     "name": "stdout",
     "output_type": "stream",
     "text": [
      "november%202020%20-% not found\n"
     ]
    }
   ],
   "source": [
    "# import all files from directory: csv_clean \n",
    "df_list =[]\n",
    "for file_name in file_names:\n",
    "    try:\n",
    "        df_list.append(pd.read_csv(f'csv_clean/{file_name}.csv'))\n",
    "    except:\n",
    "        print(f'{file_name[:20]} not found')"
   ]
  },
  {
   "cell_type": "markdown",
   "metadata": {},
   "source": [
    "Pre-processing for DataFrames"
   ]
  },
  {
   "cell_type": "code",
   "execution_count": 20,
   "metadata": {},
   "outputs": [
    {
     "name": "stdout",
     "output_type": "stream",
     "text": [
      "2017-03-01T00:00:00\n",
      "2017-04-01T00:00:00\n",
      "2017-05-01T00:00:00\n",
      "2017-06-01T00:00:00\n",
      "2017-07-01T00:00:00\n",
      "2017-08-01T00:00:00\n",
      "2017-09-01T00:00:00\n",
      "2017-10-01T00:00:00\n",
      "2017-11-01T00:00:00\n",
      "2017-12-01T00:00:00\n",
      "2018-01-01T00:00:00\n",
      "2018-02-01T00:00:00\n",
      "2018-03-01T00:00:00\n",
      "2018-04-01T00:00:00\n",
      "2018-05-01T00:00:00\n",
      "2018-06-01T00:00:00\n",
      "2018-07-01T00:00:00\n",
      "2018-08-01T00:00:00\n",
      "2018-09-01T00:00:00\n",
      "2018-10-01T00:00:00\n",
      "2018-11-01T00:00:00\n",
      "2018-12-01T00:00:00\n",
      "2019-01-01T00:00:00\n",
      "2019-02-01T00:00:00\n",
      "2019-03-01T00:00:00\n",
      "2019-04-01T00:00:00\n",
      "2019-05-01T00:00:00\n",
      "2019-06-01T00:00:00\n",
      "2019-07-01T00:00:00\n",
      "2019-08-01T00:00:00\n",
      "2019-09-01T00:00:00\n",
      "2019-10-01T00:00:00\n",
      "2019-11-01T00:00:00\n",
      "2019-12-01T00:00:00\n",
      "2020-01-01T00:00:00\n",
      "2020-02-01T00:00:00\n",
      "2020-03-01T00:00:00\n",
      "2020-04-01T00:00:00\n",
      "2020-05-01T00:00:00\n",
      "2020-06-01T00:00:00\n",
      "2020-07-01T00:00:00\n",
      "2020-08-01T00:00:00\n",
      "2020-09-01T00:00:00\n",
      "2020-10-01T00:00:00\n"
     ]
    }
   ],
   "source": [
    "# creating a list of dates to iterate over while indexing DataFrames\n",
    "import datetime\n",
    "from dateutil.relativedelta import relativedelta\n",
    "date_list = []\n",
    "start_date = datetime.datetime(2017, 3, 1) # 1st March 2017\n",
    "\n",
    "for month in range(len(df_list)):\n",
    "    date_list.append(start_date + relativedelta(months=+(month)))\n",
    "\n",
    "for i in range(len(date_list)):\n",
    "    print(date_list[i].isoformat())"
   ]
  },
  {
   "cell_type": "code",
   "execution_count": 21,
   "metadata": {},
   "outputs": [],
   "source": [
    "# using the above created list of dates to index the DataFrame\n",
    "def df_indexing(df, counter):\n",
    "    \"\"\"return a DT indexed DataFrame\"\"\"\n",
    "    df= df_list[counter]\n",
    "    df['date'] = date_list[counter]\n",
    "    df.set_index('date', inplace = True)\n",
    "    return(df)"
   ]
  },
  {
   "cell_type": "code",
   "execution_count": 22,
   "metadata": {},
   "outputs": [],
   "source": [
    "#applying the abouve function to all DataFrames\n",
    "\n",
    "indexed_df = {}\n",
    "counter = 0\n",
    "for df in df_list:\n",
    "    indexed_df[f'df{counter}'] = df_indexing(df, counter) # returns an DT indexed DataFrame\n",
    "    counter +=1"
   ]
  },
  {
   "cell_type": "code",
   "execution_count": 23,
   "metadata": {},
   "outputs": [
    {
     "data": {
      "text/plain": [
       "dict_keys(['df0', 'df1', 'df2', 'df3', 'df4', 'df5', 'df6', 'df7', 'df8', 'df9', 'df10', 'df11', 'df12', 'df13', 'df14', 'df15', 'df16', 'df17', 'df18', 'df19', 'df20', 'df21', 'df22', 'df23', 'df24', 'df25', 'df26', 'df27', 'df28', 'df29', 'df30', 'df31', 'df32', 'df33', 'df34', 'df35', 'df36', 'df37', 'df38', 'df39', 'df40', 'df41', 'df42', 'df43'])"
      ]
     },
     "execution_count": 23,
     "metadata": {},
     "output_type": "execute_result"
    }
   ],
   "source": [
    "indexed_df.keys()"
   ]
  },
  {
   "cell_type": "code",
   "execution_count": 24,
   "metadata": {},
   "outputs": [],
   "source": [
    "# concatinating the DataFrames vertically\n",
    "master_df = pd.concat(list(indexed_df.values()), axis = 0)"
   ]
  },
  {
   "cell_type": "markdown",
   "metadata": {},
   "source": [
    "drop:\\\n",
    "Nonimmigrant Visa Issuances By Nationality -\n",
    "\n",
    "merge:\\\n",
    "*Non-nationality based issuances \\\n",
    "*Non-Nationlity Based Issuances \\\n",
    "Non-Nationality Based Issuances "
   ]
  },
  {
   "cell_type": "code",
   "execution_count": 25,
   "metadata": {},
   "outputs": [
    {
     "data": {
      "text/html": [
       "<div>\n",
       "<style scoped>\n",
       "    .dataframe tbody tr th:only-of-type {\n",
       "        vertical-align: middle;\n",
       "    }\n",
       "\n",
       "    .dataframe tbody tr th {\n",
       "        vertical-align: top;\n",
       "    }\n",
       "\n",
       "    .dataframe thead th {\n",
       "        text-align: right;\n",
       "    }\n",
       "</style>\n",
       "<table border=\"1\" class=\"dataframe\">\n",
       "  <thead>\n",
       "    <tr style=\"text-align: right;\">\n",
       "      <th></th>\n",
       "      <th>country</th>\n",
       "      <th>visa_type</th>\n",
       "      <th>number</th>\n",
       "    </tr>\n",
       "    <tr>\n",
       "      <th>date</th>\n",
       "      <th></th>\n",
       "      <th></th>\n",
       "      <th></th>\n",
       "    </tr>\n",
       "  </thead>\n",
       "  <tbody>\n",
       "    <tr>\n",
       "      <th>2017-03-01</th>\n",
       "      <td>Afghanistan</td>\n",
       "      <td>A1</td>\n",
       "      <td>14</td>\n",
       "    </tr>\n",
       "    <tr>\n",
       "      <th>2017-03-01</th>\n",
       "      <td>Afghanistan</td>\n",
       "      <td>A2</td>\n",
       "      <td>42</td>\n",
       "    </tr>\n",
       "    <tr>\n",
       "      <th>2017-03-01</th>\n",
       "      <td>Afghanistan</td>\n",
       "      <td>B1</td>\n",
       "      <td>1</td>\n",
       "    </tr>\n",
       "    <tr>\n",
       "      <th>2017-03-01</th>\n",
       "      <td>Afghanistan</td>\n",
       "      <td>B1/B2</td>\n",
       "      <td>87</td>\n",
       "    </tr>\n",
       "    <tr>\n",
       "      <th>2017-03-01</th>\n",
       "      <td>Afghanistan</td>\n",
       "      <td>F2</td>\n",
       "      <td>1</td>\n",
       "    </tr>\n",
       "  </tbody>\n",
       "</table>\n",
       "</div>"
      ],
      "text/plain": [
       "                country visa_type  number\n",
       "date                                     \n",
       "2017-03-01  Afghanistan        A1      14\n",
       "2017-03-01  Afghanistan        A2      42\n",
       "2017-03-01  Afghanistan        B1       1\n",
       "2017-03-01  Afghanistan     B1/B2      87\n",
       "2017-03-01  Afghanistan        F2       1"
      ]
     },
     "execution_count": 25,
     "metadata": {},
     "output_type": "execute_result"
    }
   ],
   "source": [
    "master_df.head()"
   ]
  },
  {
   "cell_type": "code",
   "execution_count": null,
   "metadata": {},
   "outputs": [],
   "source": []
  }
 ],
 "metadata": {
  "kernelspec": {
   "display_name": "Python 3",
   "language": "python",
   "name": "python3"
  },
  "language_info": {
   "codemirror_mode": {
    "name": "ipython",
    "version": 3
   },
   "file_extension": ".py",
   "mimetype": "text/x-python",
   "name": "python",
   "nbconvert_exporter": "python",
   "pygments_lexer": "ipython3",
   "version": "3.8.3"
  }
 },
 "nbformat": 4,
 "nbformat_minor": 4
}

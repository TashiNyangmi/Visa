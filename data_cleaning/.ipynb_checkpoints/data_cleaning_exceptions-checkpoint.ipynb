{
 "cells": [
  {
   "cell_type": "markdown",
   "metadata": {},
   "source": [
    "## ACTUAL CODE"
   ]
  },
  {
   "cell_type": "code",
   "execution_count": 180,
   "metadata": {},
   "outputs": [],
   "source": [
    "# refactoring required\n",
    "# run this after master_df"
   ]
  },
  {
   "cell_type": "code",
   "execution_count": 181,
   "metadata": {},
   "outputs": [],
   "source": [
    "import pandas as pd\n",
    "import numpy as np\n",
    "\n",
    "df = pd.read_csv('master_df.csv', index_col = 'date', parse_dates = True)\n",
    "\n",
    "df['country'] = df['country'].str.replace(\"Hong Kong S. A. R\", \"Hong Kong S.A.R\")\n",
    "df['country'] = df['country'].str.replace(\"China-Taiwan\", \"China - Taiwan\")\n",
    "df['country'] = df['country'].str.replace(\"China-mainland\", \"China - mainland\") # replacing 1 with 2\n",
    "df['country'] = df['country'].str.replace(\"China - Mainland\", \"China - mainland\") # replacing 3 with 2\n",
    "df['country'] = df['country'].str.title()\n",
    "df['country'] = df['country'].str.replace(\"Nationlity\", \"Nationality\")\n",
    "\n",
    "df['country'] = np.where(df['country'] == \"Non-Nationality Based Issuances\" , \"*Non-Nationality Based Issuances\", df['country'])\n",
    "df = df[~df['country'].str.lower().str.contains(\" by \")]\n",
    "\n",
    "df.to_csv('master_df.csv')"
   ]
  },
  {
   "cell_type": "markdown",
   "metadata": {},
   "source": [
    "## Data Cleaning 2.0"
   ]
  },
  {
   "cell_type": "code",
   "execution_count": 160,
   "metadata": {},
   "outputs": [],
   "source": [
    "import pandas as pd"
   ]
  },
  {
   "cell_type": "code",
   "execution_count": 161,
   "metadata": {},
   "outputs": [
    {
     "data": {
      "text/html": [
       "<div>\n",
       "<style scoped>\n",
       "    .dataframe tbody tr th:only-of-type {\n",
       "        vertical-align: middle;\n",
       "    }\n",
       "\n",
       "    .dataframe tbody tr th {\n",
       "        vertical-align: top;\n",
       "    }\n",
       "\n",
       "    .dataframe thead th {\n",
       "        text-align: right;\n",
       "    }\n",
       "</style>\n",
       "<table border=\"1\" class=\"dataframe\">\n",
       "  <thead>\n",
       "    <tr style=\"text-align: right;\">\n",
       "      <th></th>\n",
       "      <th>country</th>\n",
       "      <th>visa_type</th>\n",
       "      <th>number</th>\n",
       "    </tr>\n",
       "    <tr>\n",
       "      <th>date</th>\n",
       "      <th></th>\n",
       "      <th></th>\n",
       "      <th></th>\n",
       "    </tr>\n",
       "  </thead>\n",
       "  <tbody>\n",
       "    <tr>\n",
       "      <th>2017-03-01</th>\n",
       "      <td>Afghanistan</td>\n",
       "      <td>A1</td>\n",
       "      <td>14</td>\n",
       "    </tr>\n",
       "    <tr>\n",
       "      <th>2017-03-01</th>\n",
       "      <td>Afghanistan</td>\n",
       "      <td>A2</td>\n",
       "      <td>42</td>\n",
       "    </tr>\n",
       "  </tbody>\n",
       "</table>\n",
       "</div>"
      ],
      "text/plain": [
       "                country visa_type  number\n",
       "date                                     \n",
       "2017-03-01  Afghanistan        A1      14\n",
       "2017-03-01  Afghanistan        A2      42"
      ]
     },
     "execution_count": 161,
     "metadata": {},
     "output_type": "execute_result"
    }
   ],
   "source": [
    "df = pd.read_csv('master_df.csv', index_col = 'date', parse_dates = True)\n",
    "df.head(2)"
   ]
  },
  {
   "cell_type": "code",
   "execution_count": 162,
   "metadata": {},
   "outputs": [
    {
     "name": "stdout",
     "output_type": "stream",
     "text": [
      "Afghanistan\n",
      "Albania\n",
      "Algeria\n",
      "Andorra\n",
      "Anguilla\n",
      "Angola\n",
      "Antigua And Barbuda\n",
      "Argentina\n",
      "Armenia\n",
      "Australia\n",
      "Austria\n",
      "Azerbaijan\n",
      "Bahamas, The\n",
      "Bahrain\n",
      "Bangladesh\n",
      "Barbados\n",
      "Belarus\n",
      "Belgium\n",
      "Belize\n",
      "Benin\n",
      "Bermuda\n",
      "Bhutan\n",
      "Bolivia\n",
      "Bosnia And Herzegovina\n",
      "Botswana\n",
      "Brazil\n",
      "British Virgin Islands\n",
      "Brunei\n",
      "Bulgaria\n",
      "Burkina Faso\n",
      "Burma\n",
      "Burundi\n",
      "Cabo Verde\n",
      "Cambodia\n",
      "Cameroon\n",
      "Canada\n",
      "Cayman Islands\n",
      "Central African Republic\n",
      "Chad\n",
      "Chile\n",
      "China - Mainland\n",
      "China - Taiwan\n",
      "Colombia\n",
      "Comoros\n",
      "Congo, Democratic Republic Of The\n",
      "Congo, Republic Of The\n",
      "Costa Rica\n",
      "Cote D'Ivoire\n",
      "Croatia\n",
      "Cuba\n",
      "Cyprus\n",
      "Czech Republic\n",
      "Denmark\n",
      "Djibouti\n",
      "Dominica\n",
      "Dominican Republic\n",
      "Ecuador\n",
      "Egypt\n",
      "El Salvador\n",
      "Equatorial Guinea\n",
      "Eritrea\n",
      "Estonia\n",
      "Ethiopia\n",
      "Fiji\n",
      "Finland\n",
      "France\n",
      "Gabon\n",
      "Gambia, The\n",
      "Georgia\n",
      "Germany\n",
      "Ghana\n",
      "Gibraltar\n",
      "Great Britain And Northern Ireland\n",
      "Greece\n",
      "Grenada\n",
      "Guatemala\n",
      "Guinea\n",
      "Guinea - Bissau\n",
      "Guyana\n",
      "Haiti\n",
      "Honduras\n",
      "British National Overseas (Hong Kong) Passport\n",
      "Hong Kong S.A.R.\n",
      "Hungary\n",
      "Iceland\n",
      "India\n",
      "Indonesia\n",
      "Iran\n",
      "Iraq\n",
      "Ireland\n",
      "Israel\n",
      "Italy\n",
      "Jamaica\n",
      "Japan\n",
      "Jordan\n",
      "Kazakhstan\n",
      "Kenya\n",
      "Kiribati\n",
      "Korea, North\n",
      "Korea, South\n",
      "Kosovo\n",
      "Kuwait\n",
      "Kyrgyzstan\n",
      "Laos\n",
      "Latvia\n",
      "Lebanon\n",
      "Lesotho\n",
      "Liberia\n",
      "Libya\n",
      "Liechtenstein\n",
      "Lithuania\n",
      "Luxembourg\n",
      "Macau S. A. R.\n",
      "Macedonia\n",
      "Madagascar\n",
      "Malawi\n",
      "Malaysia\n",
      "Maldives\n",
      "Mali\n",
      "Malta\n",
      "Mauritania\n",
      "Mauritius\n",
      "Mexico\n",
      "Micronesia, Federated States Of\n",
      "Moldova\n",
      "Monaco\n",
      "Mongolia\n",
      "Montenegro\n",
      "Montserrat\n",
      "Morocco\n",
      "Mozambique\n",
      "Namibia\n",
      "Nauru\n",
      "Nepal\n",
      "Netherlands\n",
      "New Zealand\n",
      "Nicaragua\n",
      "Niger\n",
      "Nigeria\n",
      "Norway\n",
      "Oman\n",
      "Pakistan\n",
      "Palestinian Authority Travel Document\n",
      "Panama\n",
      "Papua New Guinea\n",
      "Paraguay\n",
      "Peru\n",
      "Philippines\n",
      "Poland\n",
      "Portugal\n",
      "Qatar\n",
      "Marshall Islands, Republic Of The\n",
      "Romania\n",
      "Russia\n",
      "Rwanda\n",
      "Samoa\n",
      "San Marino\n",
      "Sao Tome And Principe\n",
      "Saudi Arabia\n",
      "Senegal\n",
      "Serbia\n",
      "Seychelles\n",
      "Sierra Leone\n",
      "Singapore\n",
      "Slovakia\n",
      "Slovenia\n",
      "Solomon Islands\n",
      "Somalia\n",
      "South Africa\n",
      "South Sudan\n",
      "Spain\n",
      "Sri Lanka\n",
      "St Lucia\n",
      "St. Vincent And The Grenadines\n",
      "St. Kitts And Nevis\n",
      "Sudan\n",
      "Suriname\n",
      "Swaziland\n",
      "Sweden\n",
      "Switzerland\n",
      "Syria\n",
      "Tajikistan\n",
      "Tanzania\n",
      "Thailand\n",
      "Timor-Leste\n",
      "Togo\n",
      "Tonga\n",
      "Trinidad And Tobago\n",
      "Tunisia\n",
      "Turkey\n",
      "Turkmenistan\n",
      "Turks And Caicos Islands\n",
      "Tuvalu\n",
      "Uganda\n",
      "Ukraine\n",
      "United Arab Emirates\n",
      "*Non-Nationality Based Issuances\n",
      "Uruguay\n",
      "Uzbekistan\n",
      "Vanuatu\n",
      "Vatican City\n",
      "Venezuela\n",
      "Vietnam\n",
      "Yemen\n",
      "Zambia\n",
      "Zimbabwe\n",
      "Bosnia-Herzegovina\n",
      "Democratic Republic Of The Congo\n",
      "Guinea-Bissau\n",
      "Republic Of Palau\n",
      "Republic Of The Congo\n",
      "Sudan, South\n",
      "Federated States Of Micronesia\n",
      "Great Britain & Northern Ireland\n",
      "Western Sahara\n",
      "**Eswatini\n",
      "St. Helena\n",
      "Eswatini\n",
      "Palau\n",
      "North Macedonia\n",
      "Curacao\n",
      "Macau S.A.R.\n",
      "Saint Lucia\n",
      "Saint Kitts And Nevis\n",
      "Saint Vincent And The Grenadines\n",
      "Marshall Islands\n",
      "Micronesia\n"
     ]
    }
   ],
   "source": [
    "for country in list(df['country'].unique()):\n",
    "    print(country)"
   ]
  },
  {
   "cell_type": "markdown",
   "metadata": {},
   "source": [
    "### For country"
   ]
  },
  {
   "cell_type": "markdown",
   "metadata": {},
   "source": [
    "## Unique Values \n",
    "*Non-nationality based issuances <br>\n",
    "*Non-Nationlity Based Issuances <br>\n",
    "*Non-Nationality Based Issuances <br>\n",
    "Non-Nationality Based Issuances <br>\n",
    "<hr>\n",
    "Nonimmigrant Visa Issuances By Nationality  variations<br>\n",
    "Hong Kong S.A.R and Hong Kong S. A. R <br>\n",
    "China-Taiwan and China - Taiwan <br>\n",
    "china - Mainland, china - mainland and china-mainland <br>\n",
    "Trinidad and Tobago <br>"
   ]
  },
  {
   "cell_type": "code",
   "execution_count": 163,
   "metadata": {},
   "outputs": [],
   "source": [
    "# 1. Resolve for Sudan [one time]"
   ]
  },
  {
   "cell_type": "code",
   "execution_count": 164,
   "metadata": {},
   "outputs": [],
   "source": [
    "# for april 2017, for Sudan, column:country was NaN, and column:visa_type had Sundan prefixed to visa type\n",
    "# Solution:\n",
    "# first strip Sudan out of the visa type\n",
    "# second repalce NAN's with Sudan\n",
    "# **Resolved** in ipynb: data_cleaning_expception_one_time"
   ]
  },
  {
   "cell_type": "code",
   "execution_count": 165,
   "metadata": {},
   "outputs": [],
   "source": [
    "# 2. Resolve for HongKong"
   ]
  },
  {
   "cell_type": "code",
   "execution_count": 166,
   "metadata": {},
   "outputs": [],
   "source": [
    "# for hongkong, there are three different labels\n",
    "# 1. British National Overseas (Hong Kong) Passport\n",
    "# 2. Hong Kong S. A. R.\n",
    "# 3. Hong Kong S.A.R.\n",
    "# Solution:\n",
    "# Combine 2 and 3 (Hongkong S. A. R. with Hongkong S.A.R.) resulting in HongKong S.A.R (because it is the most recent)\n",
    "# **Resolved**"
   ]
  },
  {
   "cell_type": "code",
   "execution_count": 167,
   "metadata": {},
   "outputs": [],
   "source": [
    "df['country'] = df['country'].str.replace(\"Hong Kong S. A. R\", \"Hong Kong S.A.R\")"
   ]
  },
  {
   "cell_type": "code",
   "execution_count": 168,
   "metadata": {},
   "outputs": [],
   "source": [
    "# 3. Resolve for Taiwan"
   ]
  },
  {
   "cell_type": "code",
   "execution_count": 169,
   "metadata": {},
   "outputs": [],
   "source": [
    "# for taiwan, there are two different labels\n",
    "# 1. China-Taiwan\n",
    "# 2. China - Taiwan\n",
    "# Solution:\n",
    "# Combine 1 and 2 (China-Taiwan with China - Taiwan) resulting in China - Taiwan (because it is the most recent)\n",
    "# **Resolved**"
   ]
  },
  {
   "cell_type": "code",
   "execution_count": 170,
   "metadata": {},
   "outputs": [],
   "source": [
    "df['country'] = df['country'].str.replace(\"China-Taiwan\", \"China - Taiwan\")"
   ]
  },
  {
   "cell_type": "code",
   "execution_count": 171,
   "metadata": {},
   "outputs": [],
   "source": [
    "# 4. Resolve for China\n",
    "# 1. China-mainland\n",
    "# 2. China - mainland\n",
    "# 3. China - Mainland\n",
    "# Soltuion:\n",
    "# Replacing 1 and 3 with 2 resulting in China - mainland (because it is the most recent)"
   ]
  },
  {
   "cell_type": "code",
   "execution_count": 172,
   "metadata": {},
   "outputs": [],
   "source": [
    "df['country'] = df['country'].str.replace(\"China-mainland\", \"China - mainland\") # replacing 1 with 2\n",
    "df['country'] = df['country'].str.replace(\"China - Mainland\", \"China - mainland\") # replacing 3 with 2"
   ]
  },
  {
   "cell_type": "code",
   "execution_count": 173,
   "metadata": {},
   "outputs": [],
   "source": [
    "# Resolve for non-nationality visa issuances\n",
    "# *Non-nationality based issuances\n",
    "# *Non-Nationlity Based Issuances\n",
    "# *Non-Nationality Based Issuances [changed to this]\n",
    "# Non-Nationality Based Issuances "
   ]
  },
  {
   "cell_type": "code",
   "execution_count": 174,
   "metadata": {},
   "outputs": [],
   "source": [
    "df['country'] = df['country'].str.title()\n",
    "df['country'] = df['country'].str.replace(\"Nationlity\", \"Nationality\") \n",
    "import numpy as np\n",
    "df['country'] = np.where(df['country'] == \"Non-Nationality Based Issuances\" , \"*Non-Nationality Based Issuances\", df['country'])"
   ]
  },
  {
   "cell_type": "markdown",
   "metadata": {},
   "source": [
    "Nonimmigrant Visa Issuances By Nationality  variations"
   ]
  },
  {
   "cell_type": "code",
   "execution_count": 175,
   "metadata": {},
   "outputs": [],
   "source": [
    "df = df[~df['country'].str.lower().str.contains(\" by \")]"
   ]
  },
  {
   "cell_type": "markdown",
   "metadata": {},
   "source": [
    "## Updating 'master.csv'"
   ]
  },
  {
   "cell_type": "code",
   "execution_count": 176,
   "metadata": {},
   "outputs": [],
   "source": [
    "df.to_csv('master_df.csv')"
   ]
  }
 ],
 "metadata": {
  "kernelspec": {
   "display_name": "Python 3",
   "language": "python",
   "name": "python3"
  },
  "language_info": {
   "codemirror_mode": {
    "name": "ipython",
    "version": 3
   },
   "file_extension": ".py",
   "mimetype": "text/x-python",
   "name": "python",
   "nbconvert_exporter": "python",
   "pygments_lexer": "ipython3",
   "version": "3.8.3"
  }
 },
 "nbformat": 4,
 "nbformat_minor": 4
}

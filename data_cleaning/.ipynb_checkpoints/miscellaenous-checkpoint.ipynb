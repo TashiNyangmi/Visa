{
 "cells": [
  {
   "cell_type": "code",
   "execution_count": null,
   "metadata": {},
   "outputs": [],
   "source": [
    "import pandas as pd"
   ]
  },
  {
   "cell_type": "code",
   "execution_count": null,
   "metadata": {},
   "outputs": [],
   "source": [
    "df = pd.read_csv(\"master_df.csv\", index_col = 'date')"
   ]
  },
  {
   "cell_type": "code",
   "execution_count": null,
   "metadata": {},
   "outputs": [],
   "source": [
    "df.reset_index(inplace = True) # convert index column:date to regular column:date"
   ]
  },
  {
   "cell_type": "code",
   "execution_count": null,
   "metadata": {},
   "outputs": [],
   "source": [
    "df['date']=pd.to_datetime(df['date']) # convert datatype from string to datetime"
   ]
  },
  {
   "cell_type": "code",
   "execution_count": null,
   "metadata": {},
   "outputs": [],
   "source": [
    "df['year'] = pd.DatetimeIndex(df['date']).year # extract year numbner\n",
    "df['month'] = pd.DatetimeIndex(df['date']).month # extract month number\n",
    "df['month'] = pd.to_datetime(df['month'], format='%m').dt.month_name() # convert month number to month name\n",
    "df['month'] = df['month'].str.lower() # lower case month names for consistency"
   ]
  },
  {
   "cell_type": "code",
   "execution_count": null,
   "metadata": {},
   "outputs": [],
   "source": [
    "df.tail()dd"
   ]
  },
  {
   "cell_type": "code",
   "execution_count": null,
   "metadata": {},
   "outputs": [],
   "source": [
    "df.set_index('date', inplace = True) # assign column:date as index"
   ]
  },
  {
   "cell_type": "code",
   "execution_count": null,
   "metadata": {},
   "outputs": [],
   "source": [
    "df.head()"
   ]
  },
  {
   "cell_type": "code",
   "execution_count": 3,
   "metadata": {},
   "outputs": [],
   "source": [
    "returned_country = 'Afghanistan'\n",
    "returned_visa_type = 'A2'\n",
    "returned_month = 'march'\n",
    "returned_year = '2017'"
   ]
  },
  {
   "cell_type": "code",
   "execution_count": null,
   "metadata": {},
   "outputs": [],
   "source": [
    "result = df[(df['country'] == returned_country) & (df['visa_type'] == returned_visa_type) & (df['month'] == returned_month) & (df['year']==int(returned_year))]"
   ]
  },
  {
   "cell_type": "code",
   "execution_count": null,
   "metadata": {},
   "outputs": [],
   "source": [
    "    result = result['number'].values"
   ]
  },
  {
   "cell_type": "code",
   "execution_count": 1,
   "metadata": {},
   "outputs": [
    {
     "ename": "NameError",
     "evalue": "name 'result' is not defined",
     "output_type": "error",
     "traceback": [
      "\u001b[1;31m---------------------------------------------------------------------------\u001b[0m",
      "\u001b[1;31mNameError\u001b[0m                                 Traceback (most recent call last)",
      "\u001b[1;32m<ipython-input-1-0ac921c19f1a>\u001b[0m in \u001b[0;36m<module>\u001b[1;34m\u001b[0m\n\u001b[1;32m----> 1\u001b[1;33m \u001b[0mresult\u001b[0m\u001b[1;33m\u001b[0m\u001b[1;33m\u001b[0m\u001b[0m\n\u001b[0m",
      "\u001b[1;31mNameError\u001b[0m: name 'result' is not defined"
     ]
    }
   ],
   "source": [
    "result"
   ]
  },
  {
   "cell_type": "code",
   "execution_count": 4,
   "metadata": {},
   "outputs": [],
   "source": [
    "import pandas as pd\n",
    "master_df = pd.read_csv('master_df.csv', index_col='date')\n",
    "# Filtering data from master_df\n",
    "# - creating columns year and month out of the date index\n",
    "master_df.reset_index(inplace=True)  # convert index column:date to regular column:date\n",
    "master_df['date'] = pd.to_datetime(master_df['date'])  # convert datatype from string to datetime\n",
    "master_df['year'] = pd.DatetimeIndex(master_df['date']).year  # extract year numbner\n",
    "master_df['month'] = pd.DatetimeIndex(master_df['date']).month  # extract month number\n",
    "master_df['month'] = pd.to_datetime(master_df['month'],\n",
    "                                    format='%m').dt.month_name()  # convert month number to month name\n",
    "master_df['month'] = master_df['month'].str.lower()  # lower case month names for consistency\n",
    "master_df.set_index('date', inplace=True)  # assign column:date as index\n",
    "\n",
    "# - actual filtering\n",
    "result = master_df[(master_df['country'] == returned_country) &\n",
    "                   (master_df['visa_type'] == returned_visa_type) &\n",
    "                   (master_df['month'] == returned_month) &\n",
    "                   (master_df['year'] == int(returned_year))]\n",
    "result = result['number'].values[0]"
   ]
  },
  {
   "cell_type": "code",
   "execution_count": 5,
   "metadata": {},
   "outputs": [
    {
     "data": {
      "text/plain": [
       "42"
      ]
     },
     "execution_count": 5,
     "metadata": {},
     "output_type": "execute_result"
    }
   ],
   "source": [
    "result"
   ]
  },
  {
   "cell_type": "code",
   "execution_count": null,
   "metadata": {},
   "outputs": [],
   "source": []
  }
 ],
 "metadata": {
  "kernelspec": {
   "display_name": "Python 3",
   "language": "python",
   "name": "python3"
  },
  "language_info": {
   "codemirror_mode": {
    "name": "ipython",
    "version": 3
   },
   "file_extension": ".py",
   "mimetype": "text/x-python",
   "name": "python",
   "nbconvert_exporter": "python",
   "pygments_lexer": "ipython3",
   "version": "3.8.3"
  }
 },
 "nbformat": 4,
 "nbformat_minor": 4
}

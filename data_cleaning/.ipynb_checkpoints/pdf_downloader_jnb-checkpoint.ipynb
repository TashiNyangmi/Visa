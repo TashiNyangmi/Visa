{
 "cells": [
  {
   "cell_type": "code",
   "execution_count": null,
   "metadata": {},
   "outputs": [],
   "source": [
    "# Problems:\n",
    "# In the target webpage, some files names have typos\n",
    "# -- Hence, pdf for some years were not downloaded\n",
    "# -- -- 1)October 2019\n",
    "# -- -- -- filename is missing characters '-20%'\n",
    "# -- -- -- '...202019%20NIV...' instead of '...202019%20-%20NIV...'\n",
    "# ''' Downloaded and renamed manually '''\n",
    "\n",
    "# -- -- 2)December 2017\n",
    "# -- -- -- filename is missing the character 'a'\n",
    "# -- -- --  'nationlity' instead of 'nationality'\n",
    "# ''' Downloaded and renamed manually '''\n",
    "\n",
    "# -- -- 3)September 2020\n",
    "# -- -- -- filename is missing characters 'EMBER'\n",
    "# -- -- -- 'SEPT...' instead of 'SEPTEMBER...'\n",
    "# ''' Did something, can't remember'''\n"
   ]
  },
  {
   "cell_type": "code",
   "execution_count": 102,
   "metadata": {},
   "outputs": [],
   "source": [
    "def pdf_downloader(url, folder_location, download_list):\n",
    "    \"\"\"download pdfs from the target url, Note this is customized for NI VISA monthly stats webpage\"\"\"\n",
    "    import os\n",
    "    import requests\n",
    "    from urllib.parse import urljoin\n",
    "    from bs4 import BeautifulSoup\n",
    "\n",
    "    # If there is no such folder, the script will create one automatically\n",
    "    if not os.path.exists(folder_location):\n",
    "        print(f'{folder_location} not found')\n",
    "        print('New folder created')\n",
    "        os.mkdir(folder_location)\n",
    "\n",
    "    response = requests.get(url)\n",
    "\n",
    "    soup = BeautifulSoup(response.text, \"html.parser\")\n",
    "    for link in soup.select(\"a[href$='%20-%20NIV%20Issuances%20by%20Nationality%20and%20Visa%20Class.pdf']\"):\n",
    "        # Name the pdf files using the last portion of each link which are unique in this case\n",
    "        filename = os.path.join(folder_location, link['href'].split('/')[-1])\n",
    "        # shortening the filename by 'subtracting' the suffix\n",
    "        suffix = '%20-%20NIV%20Issuances%20by%20Nationality%20and%20Visa%20Class'\n",
    "        filename = filename.replace(suffix, '')\n",
    "        filename = filename.replace('%20', '_')  # replacing %20 with _ (e.g. april%202019 becomes april_2019)\n",
    "        filename = filename.lower()\n",
    "\n",
    "        if filename.split('\\\\')[-1][0:-4] in download_list:\n",
    "            with open(filename, 'wb') as f:\n",
    "                f.write(requests.get(urljoin(url, link['href'])).content)\n",
    "\n",
    "            print(f'{filename} is downloaded...')\n",
    "\n",
    "    print(\"All files downloaded\")\n",
    "    return\n"
   ]
  },
  {
   "cell_type": "code",
   "execution_count": 105,
   "metadata": {},
   "outputs": [],
   "source": [
    "# refactor: instead of going through all the links(~'pdfs') in for link in soup.select()\n",
    "# we can run a loop here to only soup.select() items in the download list"
   ]
  }
 ],
 "metadata": {
  "kernelspec": {
   "display_name": "Python 3",
   "language": "python",
   "name": "python3"
  },
  "language_info": {
   "codemirror_mode": {
    "name": "ipython",
    "version": 3
   },
   "file_extension": ".py",
   "mimetype": "text/x-python",
   "name": "python",
   "nbconvert_exporter": "python",
   "pygments_lexer": "ipython3",
   "version": "3.8.3"
  }
 },
 "nbformat": 4,
 "nbformat_minor": 4
}

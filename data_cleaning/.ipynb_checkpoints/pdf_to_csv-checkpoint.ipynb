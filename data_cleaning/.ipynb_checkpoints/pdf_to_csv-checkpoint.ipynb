{
 "cells": [
  {
   "cell_type": "markdown",
   "metadata": {},
   "source": [
    "## .py file start"
   ]
  },
  {
   "cell_type": "code",
   "execution_count": 1,
   "metadata": {},
   "outputs": [],
   "source": [
    "def pdf_to_csv(input_file, output_file):\n",
    "    \"\"\"converts PDF to CSV (includes errors handling)\"\"\"\n",
    "    import tabula\n",
    "    try:\n",
    "        tabula.convert_into(input_file, output_file, pages=\"all\")\n",
    "    except FileNotFoundError:\n",
    "        print(f'{input_file} not found')\n",
    "    return"
   ]
  },
  {
   "cell_type": "markdown",
   "metadata": {},
   "source": [
    "## .py file end"
   ]
  }
 ],
 "metadata": {
  "kernelspec": {
   "display_name": "Python 3",
   "language": "python",
   "name": "python3"
  },
  "language_info": {
   "codemirror_mode": {
    "name": "ipython",
    "version": 3
   },
   "file_extension": ".py",
   "mimetype": "text/x-python",
   "name": "python",
   "nbconvert_exporter": "python",
   "pygments_lexer": "ipython3",
   "version": "3.8.3"
  }
 },
 "nbformat": 4,
 "nbformat_minor": 4
}

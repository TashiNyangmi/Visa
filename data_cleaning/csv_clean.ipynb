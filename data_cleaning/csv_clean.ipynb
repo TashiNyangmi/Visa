{
 "cells": [
  {
   "cell_type": "code",
   "execution_count": null,
   "metadata": {},
   "outputs": [],
   "source": [
    "def csv_clean(input_file, output_file):\n",
    "    \"\"\"Split the column into 3 separate columns\"\"\"\n",
    "    import pandas as pd\n",
    "    import numpy as np\n",
    "\n",
    "    col_names = ['country_raw', 'visa_type_raw', 'number_raw']\n",
    "    df = pd.read_csv(input_file,\n",
    "                     names=col_names)\n",
    "\n",
    "    # extract country, visa_type, and number from the single column containing all three\n",
    "\n",
    "    def split_country(column):\n",
    "        column = column.str.split().str[:-2]\n",
    "        column = column.apply(lambda x: ' '.join(map(str, x)))\n",
    "        return column\n",
    "\n",
    "    def split_visa_type(column):\n",
    "        column = column.str.split().str[-2:-1]\n",
    "        column = column.apply(lambda x: ' '.join(map(str, x)))\n",
    "        return column\n",
    "\n",
    "    def split_number(column):\n",
    "        column = column.str.split().str[-1:]\n",
    "        column = column.apply(lambda x: ' '.join(map(str, x)))\n",
    "        return column\n",
    "\n",
    "    df['country'] = np.where(df['visa_type_raw'].isnull(), split_country(df['country_raw']), df['country_raw'])\n",
    "    df['visa_type'] = np.where(df['visa_type_raw'].isnull(), split_visa_type(df['country_raw']), df['visa_type_raw'])\n",
    "    df['number'] = np.where(df['visa_type_raw'].isnull(), split_number(df['country_raw']), df['number_raw'])\n",
    "\n",
    "    # Drop the raw columns\n",
    "    df = df.drop(labels=['country_raw', 'visa_type_raw', 'number_raw'], axis=1)\n",
    "\n",
    "    # Drop the title rows\n",
    "    df = df[df['number'].apply(lambda x: x.isnumeric())]\n",
    "\n",
    "    # Convert column: number to datatype int64\n",
    "    df['number'] = df['number'].astype('int64', copy=False)\n",
    "\n",
    "    # Reindex the DataFrame\n",
    "    df = df.reset_index(drop=True)\n",
    "\n",
    "    df.to_csv(output_file, sep=',', index=False)\n",
    "    return\n"
   ]
  }
 ],
 "metadata": {
  "kernelspec": {
   "display_name": "Python 3",
   "language": "python",
   "name": "python3"
  },
  "language_info": {
   "codemirror_mode": {
    "name": "ipython",
    "version": 3
   },
   "file_extension": ".py",
   "mimetype": "text/x-python",
   "name": "python",
   "nbconvert_exporter": "python",
   "pygments_lexer": "ipython3",
   "version": "3.8.3"
  }
 },
 "nbformat": 4,
 "nbformat_minor": 4
}

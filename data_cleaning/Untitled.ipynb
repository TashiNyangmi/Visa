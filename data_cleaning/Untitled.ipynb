{
 "cells": [
  {
   "cell_type": "code",
   "execution_count": 73,
   "metadata": {},
   "outputs": [],
   "source": [
    "import pandas as pd\n",
    "import numpy as np"
   ]
  },
  {
   "cell_type": "code",
   "execution_count": 135,
   "metadata": {},
   "outputs": [],
   "source": [
    "df = pd.read_csv('master_df.csv')"
   ]
  },
  {
   "cell_type": "code",
   "execution_count": 136,
   "metadata": {},
   "outputs": [],
   "source": [
    "df['country'] = df['country'].str.title()"
   ]
  },
  {
   "cell_type": "code",
   "execution_count": 137,
   "metadata": {},
   "outputs": [],
   "source": [
    "replace_dict = {\n",
    "    \"Bosnia-Herzegovina\": \"Bosnia And Herzegovina\",\n",
    "    \"China-mainland\": \"China - Mainland\",\n",
    "    \"China-Taiwan\": \"China - Taiwan\",\n",
    "    \"Congo, Republic Ff The\": \"Republic Of The Congo\",\n",
    "    \"Congo, Democratic Republic Of The\": \"Democratic Republic Of The Congo\",\n",
    "    \"\\**Eswatini\": \"Eswatini\",\n",
    "    \"Great Britain & Northern Ireland\": \"Great Britain And Northern Ireland\",\n",
    "    \"Hong Kong S. A. R\": \"Hong Kong S.A.R\",\n",
    "    \"Macau S. A. R.\" : \"Macau S.A.R.\",\n",
    "    \"Marshall Islands, Republic Of The\": \"Marshall Islands\",\n",
    "    \"Micronesia, Federated States Of\": \"Micronesia\",\n",
    "    \"Nationlity\": \"Nationality\"\n",
    "}"
   ]
  },
  {
   "cell_type": "code",
   "execution_count": 138,
   "metadata": {},
   "outputs": [],
   "source": [
    "for key, value in replace_dict.items():\n",
    "    df['country'] = df['country'].str.replace(key, value)"
   ]
  },
  {
   "cell_type": "code",
   "execution_count": 139,
   "metadata": {},
   "outputs": [],
   "source": [
    "df['country'] = np.where(df['country'] == \"Non-Nationality Based Issuances\", \"*Non-Nationality Based Issuances\",\n",
    "                             df['country'])"
   ]
  },
  {
   "cell_type": "markdown",
   "metadata": {},
   "source": [
    "# CAREFUL"
   ]
  },
  {
   "cell_type": "code",
   "execution_count": 140,
   "metadata": {},
   "outputs": [],
   "source": [
    "df.set_index('date').to_csv('master_df.csv')"
   ]
  }
 ],
 "metadata": {
  "kernelspec": {
   "display_name": "Python 3",
   "language": "python",
   "name": "python3"
  },
  "language_info": {
   "codemirror_mode": {
    "name": "ipython",
    "version": 3
   },
   "file_extension": ".py",
   "mimetype": "text/x-python",
   "name": "python",
   "nbconvert_exporter": "python",
   "pygments_lexer": "ipython3",
   "version": "3.8.3"
  }
 },
 "nbformat": 4,
 "nbformat_minor": 4
}

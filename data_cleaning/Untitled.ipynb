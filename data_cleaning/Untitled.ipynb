{
 "cells": [
  {
   "cell_type": "code",
   "execution_count": 8,
   "metadata": {},
   "outputs": [],
   "source": [
    "import pandas as pd"
   ]
  },
  {
   "cell_type": "code",
   "execution_count": 9,
   "metadata": {},
   "outputs": [],
   "source": [
    "df = pd.read_csv(\"master_df.csv\")"
   ]
  },
  {
   "cell_type": "code",
   "execution_count": 10,
   "metadata": {},
   "outputs": [
    {
     "data": {
      "text/html": [
       "<div>\n",
       "<style scoped>\n",
       "    .dataframe tbody tr th:only-of-type {\n",
       "        vertical-align: middle;\n",
       "    }\n",
       "\n",
       "    .dataframe tbody tr th {\n",
       "        vertical-align: top;\n",
       "    }\n",
       "\n",
       "    .dataframe thead th {\n",
       "        text-align: right;\n",
       "    }\n",
       "</style>\n",
       "<table border=\"1\" class=\"dataframe\">\n",
       "  <thead>\n",
       "    <tr style=\"text-align: right;\">\n",
       "      <th></th>\n",
       "      <th>country</th>\n",
       "      <th>visa_type</th>\n",
       "      <th>number</th>\n",
       "    </tr>\n",
       "  </thead>\n",
       "  <tbody>\n",
       "    <tr>\n",
       "      <th>0</th>\n",
       "      <td>Afghanistan</td>\n",
       "      <td>A1</td>\n",
       "      <td>14</td>\n",
       "    </tr>\n",
       "    <tr>\n",
       "      <th>1</th>\n",
       "      <td>Afghanistan</td>\n",
       "      <td>A2</td>\n",
       "      <td>42</td>\n",
       "    </tr>\n",
       "    <tr>\n",
       "      <th>2</th>\n",
       "      <td>Afghanistan</td>\n",
       "      <td>B1</td>\n",
       "      <td>1</td>\n",
       "    </tr>\n",
       "    <tr>\n",
       "      <th>3</th>\n",
       "      <td>Afghanistan</td>\n",
       "      <td>B1/B2</td>\n",
       "      <td>87</td>\n",
       "    </tr>\n",
       "    <tr>\n",
       "      <th>4</th>\n",
       "      <td>Afghanistan</td>\n",
       "      <td>F2</td>\n",
       "      <td>1</td>\n",
       "    </tr>\n",
       "  </tbody>\n",
       "</table>\n",
       "</div>"
      ],
      "text/plain": [
       "       country visa_type  number\n",
       "0  Afghanistan        A1      14\n",
       "1  Afghanistan        A2      42\n",
       "2  Afghanistan        B1       1\n",
       "3  Afghanistan     B1/B2      87\n",
       "4  Afghanistan        F2       1"
      ]
     },
     "execution_count": 10,
     "metadata": {},
     "output_type": "execute_result"
    }
   ],
   "source": [
    "df.head()"
   ]
  },
  {
   "cell_type": "code",
   "execution_count": 7,
   "metadata": {},
   "outputs": [
    {
     "data": {
      "text/plain": [
       "['A1',\n",
       " 'A2',\n",
       " 'B1',\n",
       " 'B1/B2',\n",
       " 'F2',\n",
       " 'G2',\n",
       " 'G4',\n",
       " 'H4',\n",
       " 'J1',\n",
       " 'J2',\n",
       " 'K1',\n",
       " 'C1/D',\n",
       " 'E2',\n",
       " 'F1',\n",
       " 'H1B',\n",
       " 'L1',\n",
       " 'M1',\n",
       " 'P1',\n",
       " 'P3',\n",
       " 'B2',\n",
       " 'D',\n",
       " 'L2',\n",
       " 'O1',\n",
       " 'G1',\n",
       " 'C3',\n",
       " 'H2B',\n",
       " 'C1',\n",
       " 'E1',\n",
       " 'I',\n",
       " 'K2',\n",
       " 'M2',\n",
       " 'O2',\n",
       " 'O3',\n",
       " 'P4',\n",
       " 'R1',\n",
       " 'R2',\n",
       " 'TD',\n",
       " 'E3',\n",
       " 'E3D',\n",
       " 'E3R',\n",
       " 'H2A',\n",
       " 'H3',\n",
       " 'A3',\n",
       " 'CW2',\n",
       " 'G3',\n",
       " 'NATO1',\n",
       " 'NATO2',\n",
       " 'NATO4',\n",
       " 'NATO6',\n",
       " 'Q1',\n",
       " 'U3',\n",
       " 'C2',\n",
       " 'G5',\n",
       " 'TN',\n",
       " 'H1B1',\n",
       " 'CW1',\n",
       " 'E2C',\n",
       " 'U2',\n",
       " 'U1',\n",
       " 'U5',\n",
       " 'P2',\n",
       " 'T3',\n",
       " 'U4',\n",
       " 'T2',\n",
       " 'T6',\n",
       " 'K3',\n",
       " 'K4',\n",
       " 'T5',\n",
       " 'NATO5',\n",
       " 'N8',\n",
       " 'SudanA1',\n",
       " 'SudanA3',\n",
       " 'SudanB1',\n",
       " 'SudanB1/B2',\n",
       " 'SudanB2',\n",
       " 'SudanD',\n",
       " 'SudanF1',\n",
       " 'SudanG1',\n",
       " 'SudanG2',\n",
       " 'SudanG4',\n",
       " 'SudanH1B',\n",
       " 'SudanH4',\n",
       " 'SudanI',\n",
       " 'SudanJ1',\n",
       " 'SudanK1',\n",
       " 'NATO7',\n",
       " 'T4',\n",
       " 'BBBCC',\n",
       " 'BBBCV',\n",
       " 'November',\n",
       " 'December',\n",
       " 'January',\n",
       " 'H1C',\n",
       " 'February',\n",
       " 'March',\n",
       " 'April',\n",
       " 'N9',\n",
       " 'May',\n",
       " 'June',\n",
       " 'July',\n",
       " 'August',\n",
       " 'S7']"
      ]
     },
     "execution_count": 7,
     "metadata": {},
     "output_type": "execute_result"
    }
   ],
   "source": [
    "list(df['visa_type'].unique())"
   ]
  },
  {
   "cell_type": "code",
   "execution_count": null,
   "metadata": {},
   "outputs": [],
   "source": [
    "df['visa_type']"
   ]
  }
 ],
 "metadata": {
  "kernelspec": {
   "display_name": "Python 3",
   "language": "python",
   "name": "python3"
  },
  "language_info": {
   "codemirror_mode": {
    "name": "ipython",
    "version": 3
   },
   "file_extension": ".py",
   "mimetype": "text/x-python",
   "name": "python",
   "nbconvert_exporter": "python",
   "pygments_lexer": "ipython3",
   "version": "3.8.3"
  }
 },
 "nbformat": 4,
 "nbformat_minor": 4
}

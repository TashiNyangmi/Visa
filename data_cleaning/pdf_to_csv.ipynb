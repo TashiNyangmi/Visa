{
 "cells": [
  {
   "cell_type": "markdown",
   "metadata": {},
   "source": [
    "## .py file start"
   ]
  },
  {
   "cell_type": "code",
   "execution_count": 1,
   "metadata": {},
   "outputs": [],
   "source": [
    "def pdf_to_csv(input_file, output_file):\n",
    "    \"\"\"converts PDF to CSV (includes errors handling)\"\"\"\n",
    "    import tabula\n",
    "    try:\n",
    "        tabula.convert_into(input_file, output_file, pages=\"all\")\n",
    "    except FileNotFoundError:\n",
    "        print(f'{input_file} not found')\n",
    "    return"
   ]
  },
  {
   "cell_type": "markdown",
   "metadata": {},
   "source": [
    "## .py file end"
   ]
  },
  {
   "cell_type": "code",
   "execution_count": 74,
   "metadata": {},
   "outputs": [],
   "source": [
    "#\n",
    "# def pdf_to_json(input_file, output_file):\n",
    "#     import tabula\n",
    "#     import json\n",
    "#     tabula.convert_into(input_file, output_file, output_format=\"json\", pages=\"all\")\n",
    "\n",
    "# stores all tables in the pdf in a list as DataFrames\n",
    "# tables = tabula.read_pdf(input_file, pages=\"all\", multiple_tables=True)\n",
    "\n",
    "# ------------------------------------------------------------------------------------\n",
    "# converts a PDF file directly into a CSV\n",
    "\n",
    "# the first page in a PDF\n",
    "# tabula.convert_into(file, \"pdf/doubleeyes.csv\")\n",
    "\n",
    "# all the pages in a PDF\n",
    "# output_file = \"pdf_raw/OCTOBER%202020%20-%20NIV%20Issuances%20by%20Nationality%20and%20Visa%20Class.csv\"\n",
    "# tabula.convert_into(input_file, output_file, pages=\"all\")\n",
    "\n",
    "# all the pages in all PDFs in a Directory\n",
    "# tabula.convert_into_by_batch(\"/path/to/files\", output_format = csv, pages = \"all\")\n",
    "\n",
    "# ----------------------------------------------------------------------\n",
    "# we can perform the same operation, except drop the files out to JSON instead, like below:\n",
    "# tabula.convert_into_by_batch(\"/path/to/files\", output_format = \"json\", pages = \"all\")\n"
   ]
  }
 ],
 "metadata": {
  "kernelspec": {
   "display_name": "Python 3",
   "language": "python",
   "name": "python3"
  },
  "language_info": {
   "codemirror_mode": {
    "name": "ipython",
    "version": 3
   },
   "file_extension": ".py",
   "mimetype": "text/x-python",
   "name": "python",
   "nbconvert_exporter": "python",
   "pygments_lexer": "ipython3",
   "version": "3.8.3"
  }
 },
 "nbformat": 4,
 "nbformat_minor": 4
}

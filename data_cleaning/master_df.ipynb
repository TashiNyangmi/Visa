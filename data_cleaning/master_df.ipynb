{
 "cells": [
  {
   "cell_type": "code",
   "execution_count": 1,
   "metadata": {},
   "outputs": [],
   "source": [
    "from file_names import file_names\n",
    "import pandas as pd"
   ]
  },
  {
   "cell_type": "markdown",
   "metadata": {},
   "source": [
    "### Importing all DataFrames"
   ]
  },
  {
   "cell_type": "code",
   "execution_count": 3,
   "metadata": {},
   "outputs": [],
   "source": [
    "# import the first dataframe\n",
    "# march 2017\n",
    "df = pd.read_csv(f'csv_clean/{file_names[0]}.csv')\n",
    "df['date'] = file_names[0].replace('_', '-')  # create a column:date, replace _ with -\n",
    "df['date']= pd.to_datetime(df['date'])  # convert column:date to Datatype: DateTime\n",
    "df.set_index('date', inplace = True)"
   ]
  },
  {
   "cell_type": "code",
   "execution_count": 4,
   "metadata": {},
   "outputs": [
    {
     "name": "stdout",
     "output_type": "stream",
     "text": [
      "december_2020.csv not found\n",
      "january_2021.csv not found\n"
     ]
    }
   ],
   "source": [
    "# import rest of the dataframes\n",
    "for file_name in file_names[1:]:\n",
    "    try:\n",
    "        monthly_df = pd.read_csv(f'csv_clean/{file_name}.csv')  # read csv file\n",
    "        monthly_df['date'] = file_name.replace('_', '-')  # create a column:date, replace _ with -\n",
    "        monthly_df['date']= pd.to_datetime(monthly_df['date'])  # convert column:date to Datatype: DateTime\n",
    "        monthly_df.set_index('date', inplace = True) # set column:date as Index\n",
    "        df = df.append(monthly_df)\n",
    "    except:\n",
    "        print(f'{file_name}.csv not found')   "
   ]
  },
  {
   "cell_type": "code",
   "execution_count": 5,
   "metadata": {},
   "outputs": [],
   "source": [
    "df.to_csv('master_df.csv')"
   ]
  }
 ],
 "metadata": {
  "kernelspec": {
   "display_name": "Python 3",
   "language": "python",
   "name": "python3"
  },
  "language_info": {
   "codemirror_mode": {
    "name": "ipython",
    "version": 3
   },
   "file_extension": ".py",
   "mimetype": "text/x-python",
   "name": "python",
   "nbconvert_exporter": "python",
   "pygments_lexer": "ipython3",
   "version": "3.8.3"
  }
 },
 "nbformat": 4,
 "nbformat_minor": 4
}

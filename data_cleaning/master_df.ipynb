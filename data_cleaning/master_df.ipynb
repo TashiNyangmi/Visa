{
 "cells": [
  {
   "cell_type": "markdown",
   "metadata": {},
   "source": [
    "### ACTUAL CODE"
   ]
  },
  {
   "cell_type": "code",
   "execution_count": 7,
   "metadata": {},
   "outputs": [
    {
     "data": {
      "text/html": [
       "<div>\n",
       "<style scoped>\n",
       "    .dataframe tbody tr th:only-of-type {\n",
       "        vertical-align: middle;\n",
       "    }\n",
       "\n",
       "    .dataframe tbody tr th {\n",
       "        vertical-align: top;\n",
       "    }\n",
       "\n",
       "    .dataframe thead th {\n",
       "        text-align: right;\n",
       "    }\n",
       "</style>\n",
       "<table border=\"1\" class=\"dataframe\">\n",
       "  <thead>\n",
       "    <tr style=\"text-align: right;\">\n",
       "      <th></th>\n",
       "      <th>date</th>\n",
       "      <th>country</th>\n",
       "      <th>visa_type</th>\n",
       "      <th>number</th>\n",
       "    </tr>\n",
       "  </thead>\n",
       "  <tbody>\n",
       "    <tr>\n",
       "      <th>145909</th>\n",
       "      <td>2020-12-01 00:00:00</td>\n",
       "      <td>Zimbabwe</td>\n",
       "      <td>G4</td>\n",
       "      <td>5</td>\n",
       "    </tr>\n",
       "    <tr>\n",
       "      <th>145910</th>\n",
       "      <td>2020-12-01 00:00:00</td>\n",
       "      <td>Zimbabwe</td>\n",
       "      <td>J1</td>\n",
       "      <td>1</td>\n",
       "    </tr>\n",
       "    <tr>\n",
       "      <th>145911</th>\n",
       "      <td>2020-12-01 00:00:00</td>\n",
       "      <td>Zimbabwe</td>\n",
       "      <td>J2</td>\n",
       "      <td>3</td>\n",
       "    </tr>\n",
       "    <tr>\n",
       "      <th>145912</th>\n",
       "      <td>2020-12-01 00:00:00</td>\n",
       "      <td>Zimbabwe</td>\n",
       "      <td>L1</td>\n",
       "      <td>1</td>\n",
       "    </tr>\n",
       "    <tr>\n",
       "      <th>145913</th>\n",
       "      <td>2020-12-01 00:00:00</td>\n",
       "      <td>Zimbabwe</td>\n",
       "      <td>P1</td>\n",
       "      <td>1</td>\n",
       "    </tr>\n",
       "  </tbody>\n",
       "</table>\n",
       "</div>"
      ],
      "text/plain": [
       "                       date   country visa_type  number\n",
       "145909  2020-12-01 00:00:00  Zimbabwe        G4       5\n",
       "145910  2020-12-01 00:00:00  Zimbabwe        J1       1\n",
       "145911  2020-12-01 00:00:00  Zimbabwe        J2       3\n",
       "145912  2020-12-01 00:00:00  Zimbabwe        L1       1\n",
       "145913  2020-12-01 00:00:00  Zimbabwe        P1       1"
      ]
     },
     "execution_count": 7,
     "metadata": {},
     "output_type": "execute_result"
    }
   ],
   "source": [
    "pd.read_csv('master_df.csv').tail()"
   ]
  }
 ],
 "metadata": {
  "kernelspec": {
   "display_name": "Python 3",
   "language": "python",
   "name": "python3"
  },
  "language_info": {
   "codemirror_mode": {
    "name": "ipython",
    "version": 3
   },
   "file_extension": ".py",
   "mimetype": "text/x-python",
   "name": "python",
   "nbconvert_exporter": "python",
   "pygments_lexer": "ipython3",
   "version": "3.8.3"
  }
 },
 "nbformat": 4,
 "nbformat_minor": 4
}

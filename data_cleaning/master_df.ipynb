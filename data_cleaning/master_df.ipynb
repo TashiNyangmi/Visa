{
 "cells": [
  {
   "cell_type": "code",
   "execution_count": 49,
   "metadata": {},
   "outputs": [
    {
     "data": {
      "text/plain": [
       "['january_2021', 'february_2021']"
      ]
     },
     "execution_count": 49,
     "metadata": {},
     "output_type": "execute_result"
    }
   ],
   "source": [
    "download_list"
   ]
  },
  {
   "cell_type": "code",
   "execution_count": null,
   "metadata": {},
   "outputs": [],
   "source": []
  },
  {
   "cell_type": "code",
   "execution_count": 32,
   "metadata": {},
   "outputs": [],
   "source": [
    "df = pd.read_csv('master_df.csv')"
   ]
  },
  {
   "cell_type": "code",
   "execution_count": 33,
   "metadata": {},
   "outputs": [
    {
     "data": {
      "text/html": [
       "<div>\n",
       "<style scoped>\n",
       "    .dataframe tbody tr th:only-of-type {\n",
       "        vertical-align: middle;\n",
       "    }\n",
       "\n",
       "    .dataframe tbody tr th {\n",
       "        vertical-align: top;\n",
       "    }\n",
       "\n",
       "    .dataframe thead th {\n",
       "        text-align: right;\n",
       "    }\n",
       "</style>\n",
       "<table border=\"1\" class=\"dataframe\">\n",
       "  <thead>\n",
       "    <tr style=\"text-align: right;\">\n",
       "      <th></th>\n",
       "      <th>date</th>\n",
       "      <th>country</th>\n",
       "      <th>visa_type</th>\n",
       "      <th>number</th>\n",
       "    </tr>\n",
       "  </thead>\n",
       "  <tbody>\n",
       "    <tr>\n",
       "      <th>0</th>\n",
       "      <td>2017-03-01</td>\n",
       "      <td>Afghanistan</td>\n",
       "      <td>A1</td>\n",
       "      <td>14</td>\n",
       "    </tr>\n",
       "    <tr>\n",
       "      <th>1</th>\n",
       "      <td>2017-03-01</td>\n",
       "      <td>Afghanistan</td>\n",
       "      <td>A2</td>\n",
       "      <td>42</td>\n",
       "    </tr>\n",
       "    <tr>\n",
       "      <th>2</th>\n",
       "      <td>2017-03-01</td>\n",
       "      <td>Afghanistan</td>\n",
       "      <td>B1</td>\n",
       "      <td>1</td>\n",
       "    </tr>\n",
       "    <tr>\n",
       "      <th>3</th>\n",
       "      <td>2017-03-01</td>\n",
       "      <td>Afghanistan</td>\n",
       "      <td>B1/B2</td>\n",
       "      <td>87</td>\n",
       "    </tr>\n",
       "    <tr>\n",
       "      <th>4</th>\n",
       "      <td>2017-03-01</td>\n",
       "      <td>Afghanistan</td>\n",
       "      <td>F2</td>\n",
       "      <td>1</td>\n",
       "    </tr>\n",
       "  </tbody>\n",
       "</table>\n",
       "</div>"
      ],
      "text/plain": [
       "         date      country visa_type  number\n",
       "0  2017-03-01  Afghanistan        A1      14\n",
       "1  2017-03-01  Afghanistan        A2      42\n",
       "2  2017-03-01  Afghanistan        B1       1\n",
       "3  2017-03-01  Afghanistan     B1/B2      87\n",
       "4  2017-03-01  Afghanistan        F2       1"
      ]
     },
     "execution_count": 33,
     "metadata": {},
     "output_type": "execute_result"
    }
   ],
   "source": [
    "df.head()"
   ]
  },
  {
   "cell_type": "code",
   "execution_count": 34,
   "metadata": {},
   "outputs": [
    {
     "data": {
      "text/html": [
       "<div>\n",
       "<style scoped>\n",
       "    .dataframe tbody tr th:only-of-type {\n",
       "        vertical-align: middle;\n",
       "    }\n",
       "\n",
       "    .dataframe tbody tr th {\n",
       "        vertical-align: top;\n",
       "    }\n",
       "\n",
       "    .dataframe thead th {\n",
       "        text-align: right;\n",
       "    }\n",
       "</style>\n",
       "<table border=\"1\" class=\"dataframe\">\n",
       "  <thead>\n",
       "    <tr style=\"text-align: right;\">\n",
       "      <th></th>\n",
       "      <th>date</th>\n",
       "      <th>country</th>\n",
       "      <th>visa_type</th>\n",
       "      <th>number</th>\n",
       "    </tr>\n",
       "  </thead>\n",
       "  <tbody>\n",
       "    <tr>\n",
       "      <th>143511</th>\n",
       "      <td>2020-11-01</td>\n",
       "      <td>Zimbabwe</td>\n",
       "      <td>G1</td>\n",
       "      <td>10</td>\n",
       "    </tr>\n",
       "    <tr>\n",
       "      <th>143512</th>\n",
       "      <td>2020-11-01</td>\n",
       "      <td>Zimbabwe</td>\n",
       "      <td>G4</td>\n",
       "      <td>19</td>\n",
       "    </tr>\n",
       "    <tr>\n",
       "      <th>143513</th>\n",
       "      <td>2020-11-01</td>\n",
       "      <td>Zimbabwe</td>\n",
       "      <td>J1</td>\n",
       "      <td>2</td>\n",
       "    </tr>\n",
       "    <tr>\n",
       "      <th>143514</th>\n",
       "      <td>2020-11-01</td>\n",
       "      <td>Zimbabwe</td>\n",
       "      <td>J2</td>\n",
       "      <td>3</td>\n",
       "    </tr>\n",
       "    <tr>\n",
       "      <th>143515</th>\n",
       "      <td>2020-11-01</td>\n",
       "      <td>Zimbabwe</td>\n",
       "      <td>K1</td>\n",
       "      <td>3</td>\n",
       "    </tr>\n",
       "  </tbody>\n",
       "</table>\n",
       "</div>"
      ],
      "text/plain": [
       "              date   country visa_type  number\n",
       "143511  2020-11-01  Zimbabwe        G1      10\n",
       "143512  2020-11-01  Zimbabwe        G4      19\n",
       "143513  2020-11-01  Zimbabwe        J1       2\n",
       "143514  2020-11-01  Zimbabwe        J2       3\n",
       "143515  2020-11-01  Zimbabwe        K1       3"
      ]
     },
     "execution_count": 34,
     "metadata": {},
     "output_type": "execute_result"
    }
   ],
   "source": [
    "df.tail()"
   ]
  },
  {
   "cell_type": "code",
   "execution_count": 35,
   "metadata": {},
   "outputs": [
    {
     "name": "stdout",
     "output_type": "stream",
     "text": [
      "december_2020.csv not found\n",
      "january_2021.csv not found\n",
      "february_2021.csv not found\n"
     ]
    }
   ],
   "source": [
    "for file_name in download_list:\n",
    "    try:\n",
    "        monthly_df = pd.read_csv(f'csv_clean/{file_name}.csv')  # read csv file\n",
    "        monthly_df['date'] = file_name.replace('_', '-')  # create a column:date, replace _ with -\n",
    "        monthly_df['date']= pd.to_datetime(monthly_df['date'])  # convert column:date to Datatype: DateTime\n",
    "        monthly_df.set_index('date', inplace = True) # set column:date as Index\n",
    "        df = df.append(monthly_df)\n",
    "    except:\n",
    "        print(f'{file_name}.csv not found')"
   ]
  }
 ],
 "metadata": {
  "kernelspec": {
   "display_name": "Python 3",
   "language": "python",
   "name": "python3"
  },
  "language_info": {
   "codemirror_mode": {
    "name": "ipython",
    "version": 3
   },
   "file_extension": ".py",
   "mimetype": "text/x-python",
   "name": "python",
   "nbconvert_exporter": "python",
   "pygments_lexer": "ipython3",
   "version": "3.8.3"
  }
 },
 "nbformat": 4,
 "nbformat_minor": 4
}

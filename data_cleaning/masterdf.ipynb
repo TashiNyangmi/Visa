{
 "cells": [
  {
   "cell_type": "markdown",
   "metadata": {},
   "source": [
    "Few issues in place"
   ]
  },
  {
   "cell_type": "code",
   "execution_count": 1,
   "metadata": {},
   "outputs": [],
   "source": [
    "filename = 'APRIL%202017%20-%20NIV%20Issuances%20by%20Nationality%20and%20Visa%20Class'"
   ]
  },
  {
   "cell_type": "code",
   "execution_count": 7,
   "metadata": {},
   "outputs": [
    {
     "data": {
      "text/plain": [
       "'APRIL%202017'"
      ]
     },
     "execution_count": 7,
     "metadata": {},
     "output_type": "execute_result"
    }
   ],
   "source": [
    "subtract =  '%20-%20NIV%20Issuances%20by%20Nationality%20and%20Visa%20Class'\n",
    "filename = filename.replace(subtract, '')\n",
    "filename"
   ]
  },
  {
   "cell_type": "code",
   "execution_count": 1,
   "metadata": {},
   "outputs": [],
   "source": [
    "import pandas as pd\n",
    "import datetime as dt"
   ]
  },
  {
   "cell_type": "markdown",
   "metadata": {},
   "source": [
    "## 1) Importing dataframes"
   ]
  },
  {
   "cell_type": "code",
   "execution_count": 7,
   "metadata": {},
   "outputs": [],
   "source": [
    "file_names = pd.read_csv('file_names.csv') # a one dimensional(supposedly) list of file names\n",
    "file_names = file_names['col1']\n",
    "\n",
    "\n",
    "# 1) fixing some inconsistencies in naming conventions (in source data)\n",
    "\n",
    "# december2017: replace 'Nationltity' w/ 'Nationality' \n",
    "file_names[11] = 'december%202017%20-%20NIV%20Issuances%20by%20Nationlity%20and%20Visa%20Class'\n",
    "\n",
    "# october2019: replace '202019%20-%20NIV w/ '202019%20NIV'\n",
    "file_names[33] = 'october%202019%20NIV%20Issuances%20by%20Nationality%20and%20Visa%20Class'\n",
    "\n",
    "# september2020: replace 'SEPTEMBER' w/ 'SEPT'\n",
    "file_names[44] = 'sept%202020%20-%20NIV%20Issuances%20by%20Nationality%20and%20Visa%20Class'\n",
    "\n",
    "\n",
    "# 2) missing months:\n",
    "\n",
    "# drop \n",
    "# - jan2017 and feb 2017 \n",
    "# - - because fiscal year starts March\n",
    "\n",
    "# drop \n",
    "# - nov 2020 & dec 2020 \n",
    "# - - because origin website has not updated yet\n",
    "\n",
    "file_names = file_names[2:-2]  # omitting first 2 elements and the last 2 element\n",
    "\n",
    "# fix indices\n",
    "indices = range(0, len(file_names))  # Datatype: range\n",
    "file_names.index = indices           # Assign ^^ to file_names's index "
   ]
  },
  {
   "cell_type": "code",
   "execution_count": 8,
   "metadata": {},
   "outputs": [
    {
     "data": {
      "text/plain": [
       "0     march%202017%20-%20NIV%20Issuances%20by%20Nati...\n",
       "1     april%202017%20-%20NIV%20Issuances%20by%20Nati...\n",
       "2     may%202017%20-%20NIV%20Issuances%20by%20Nation...\n",
       "3     june%202017%20-%20NIV%20Issuances%20by%20Natio...\n",
       "4     july%202017%20-%20NIV%20Issuances%20by%20Natio...\n",
       "5     august%202017%20-%20NIV%20Issuances%20by%20Nat...\n",
       "6     september%202017%20-%20NIV%20Issuances%20by%20...\n",
       "7     october%202017%20-%20NIV%20Issuances%20by%20Na...\n",
       "8     november%202017%20-%20NIV%20Issuances%20by%20N...\n",
       "9     december%202017%20-%20NIV%20Issuances%20by%20N...\n",
       "10    january%202018%20-%20NIV%20Issuances%20by%20Na...\n",
       "11    february%202018%20-%20NIV%20Issuances%20by%20N...\n",
       "12    march%202018%20-%20NIV%20Issuances%20by%20Nati...\n",
       "13    april%202018%20-%20NIV%20Issuances%20by%20Nati...\n",
       "14    may%202018%20-%20NIV%20Issuances%20by%20Nation...\n",
       "15    june%202018%20-%20NIV%20Issuances%20by%20Natio...\n",
       "16    july%202018%20-%20NIV%20Issuances%20by%20Natio...\n",
       "17    august%202018%20-%20NIV%20Issuances%20by%20Nat...\n",
       "18    september%202018%20-%20NIV%20Issuances%20by%20...\n",
       "19    october%202018%20-%20NIV%20Issuances%20by%20Na...\n",
       "20    november%202018%20-%20NIV%20Issuances%20by%20N...\n",
       "21    december%202018%20-%20NIV%20Issuances%20by%20N...\n",
       "22    january%202019%20-%20NIV%20Issuances%20by%20Na...\n",
       "23    february%202019%20-%20NIV%20Issuances%20by%20N...\n",
       "24    march%202019%20-%20NIV%20Issuances%20by%20Nati...\n",
       "25    april%202019%20-%20NIV%20Issuances%20by%20Nati...\n",
       "26    may%202019%20-%20NIV%20Issuances%20by%20Nation...\n",
       "27    june%202019%20-%20NIV%20Issuances%20by%20Natio...\n",
       "28    july%202019%20-%20NIV%20Issuances%20by%20Natio...\n",
       "29    august%202019%20-%20NIV%20Issuances%20by%20Nat...\n",
       "30    september%202019%20-%20NIV%20Issuances%20by%20...\n",
       "31    october%202019%20NIV%20Issuances%20by%20Nation...\n",
       "32    november%202019%20-%20NIV%20Issuances%20by%20N...\n",
       "33    december%202019%20-%20NIV%20Issuances%20by%20N...\n",
       "34    january%202020%20-%20NIV%20Issuances%20by%20Na...\n",
       "35    february%202020%20-%20NIV%20Issuances%20by%20N...\n",
       "36    march%202020%20-%20NIV%20Issuances%20by%20Nati...\n",
       "37    april%202020%20-%20NIV%20Issuances%20by%20Nati...\n",
       "38    may%202020%20-%20NIV%20Issuances%20by%20Nation...\n",
       "39    june%202020%20-%20NIV%20Issuances%20by%20Natio...\n",
       "40    july%202020%20-%20NIV%20Issuances%20by%20Natio...\n",
       "41    august%202020%20-%20NIV%20Issuances%20by%20Nat...\n",
       "42    sept%202020%20-%20NIV%20Issuances%20by%20Natio...\n",
       "43    october%202020%20-%20NIV%20Issuances%20by%20Na...\n",
       "Name: col1, dtype: object"
      ]
     },
     "execution_count": 8,
     "metadata": {},
     "output_type": "execute_result"
    }
   ],
   "source": [
    "file_names"
   ]
  },
  {
   "cell_type": "markdown",
   "metadata": {},
   "source": [
    "### Use the above list of file names to import all dataframes via looping"
   ]
  },
  {
   "cell_type": "code",
   "execution_count": 9,
   "metadata": {},
   "outputs": [],
   "source": [
    "# import all files from directory: csv_clean \n",
    "df_list =[] # list to store all dataframes\n",
    "for file_name in file_names:\n",
    "    try:\n",
    "        df_list.append(pd.read_csv(f'csv_clean/{file_name}.csv'))\n",
    "    except:\n",
    "        print(f'{file_name[:20]} not found')"
   ]
  },
  {
   "cell_type": "markdown",
   "metadata": {},
   "source": [
    "## 2) Pre-processing for DataFrames"
   ]
  },
  {
   "cell_type": "markdown",
   "metadata": {},
   "source": [
    "### For Datetime indexing"
   ]
  },
  {
   "cell_type": "code",
   "execution_count": 14,
   "metadata": {},
   "outputs": [
    {
     "name": "stdout",
     "output_type": "stream",
     "text": [
      "2017-03-01T00:00:00\n",
      "2017-04-01T00:00:00\n",
      "2017-05-01T00:00:00\n",
      "2017-06-01T00:00:00\n",
      "2017-07-01T00:00:00\n",
      "2017-08-01T00:00:00\n",
      "2017-09-01T00:00:00\n",
      "2017-10-01T00:00:00\n",
      "2017-11-01T00:00:00\n",
      "2017-12-01T00:00:00\n",
      "2018-01-01T00:00:00\n",
      "2018-02-01T00:00:00\n",
      "2018-03-01T00:00:00\n",
      "2018-04-01T00:00:00\n",
      "2018-05-01T00:00:00\n",
      "2018-06-01T00:00:00\n",
      "2018-07-01T00:00:00\n",
      "2018-08-01T00:00:00\n",
      "2018-09-01T00:00:00\n",
      "2018-10-01T00:00:00\n",
      "2018-11-01T00:00:00\n",
      "2018-12-01T00:00:00\n",
      "2019-01-01T00:00:00\n",
      "2019-02-01T00:00:00\n",
      "2019-03-01T00:00:00\n",
      "2019-04-01T00:00:00\n",
      "2019-05-01T00:00:00\n",
      "2019-06-01T00:00:00\n",
      "2019-07-01T00:00:00\n",
      "2019-08-01T00:00:00\n",
      "2019-09-01T00:00:00\n",
      "2019-10-01T00:00:00\n",
      "2019-11-01T00:00:00\n",
      "2019-12-01T00:00:00\n",
      "2020-01-01T00:00:00\n",
      "2020-02-01T00:00:00\n",
      "2020-03-01T00:00:00\n",
      "2020-04-01T00:00:00\n",
      "2020-05-01T00:00:00\n",
      "2020-06-01T00:00:00\n",
      "2020-07-01T00:00:00\n",
      "2020-08-01T00:00:00\n",
      "2020-09-01T00:00:00\n",
      "2020-10-01T00:00:00\n"
     ]
    }
   ],
   "source": [
    "# creating a list of dates to iterate over while indexing DataFrames\n",
    "import datetime\n",
    "from dateutil.relativedelta import relativedelta\n",
    "date_list = []\n",
    "start_date = datetime.datetime(2017, 3, 1) # 1st March 2017\n",
    "\n",
    "for month in range(len(df_list)):\n",
    "    date_list.append(start_date + relativedelta(months=+(month)))\n",
    "\n",
    "for i in range(len(date_list)):\n",
    "    print(date_list[i].isoformat())"
   ]
  },
  {
   "cell_type": "code",
   "execution_count": 15,
   "metadata": {},
   "outputs": [],
   "source": [
    "# using the above created list of dates to index the DataFrame\n",
    "def df_indexing(df, counter):\n",
    "    \"\"\"return a DT indexed DataFrame\"\"\"\n",
    "    df= df_list[counter]\n",
    "    df['date'] = date_list[counter]\n",
    "    df.set_index('date', inplace = True)\n",
    "    return(df)"
   ]
  },
  {
   "cell_type": "code",
   "execution_count": 16,
   "metadata": {},
   "outputs": [],
   "source": [
    "#applying the above function to all DataFrames\n",
    "indexed_df = {}\n",
    "counter = 0\n",
    "for df in df_list:\n",
    "    indexed_df[f'df{counter}'] = df_indexing(df, counter) # returns an DT indexed DataFrame\n",
    "    counter +=1"
   ]
  },
  {
   "cell_type": "code",
   "execution_count": 17,
   "metadata": {},
   "outputs": [
    {
     "data": {
      "text/plain": [
       "dict_keys(['df0', 'df1', 'df2', 'df3', 'df4', 'df5', 'df6', 'df7', 'df8', 'df9', 'df10', 'df11', 'df12', 'df13', 'df14', 'df15', 'df16', 'df17', 'df18', 'df19', 'df20', 'df21', 'df22', 'df23', 'df24', 'df25', 'df26', 'df27', 'df28', 'df29', 'df30', 'df31', 'df32', 'df33', 'df34', 'df35', 'df36', 'df37', 'df38', 'df39', 'df40', 'df41', 'df42', 'df43'])"
      ]
     },
     "execution_count": 17,
     "metadata": {},
     "output_type": "execute_result"
    }
   ],
   "source": [
    "indexed_df.keys()"
   ]
  },
  {
   "cell_type": "code",
   "execution_count": 18,
   "metadata": {},
   "outputs": [],
   "source": [
    "# concatinating the DataFrames vertically\n",
    "master_df = pd.concat(list(indexed_df.values()), axis = 0)"
   ]
  },
  {
   "cell_type": "markdown",
   "metadata": {},
   "source": [
    "drop:\\\n",
    "Nonimmigrant Visa Issuances By Nationality -\n",
    "\n",
    "merge:\\\n",
    "*Non-nationality based issuances \\\n",
    "*Non-Nationlity Based Issuances \\\n",
    "Non-Nationality Based Issuances "
   ]
  },
  {
   "cell_type": "code",
   "execution_count": 19,
   "metadata": {},
   "outputs": [
    {
     "data": {
      "text/html": [
       "<div>\n",
       "<style scoped>\n",
       "    .dataframe tbody tr th:only-of-type {\n",
       "        vertical-align: middle;\n",
       "    }\n",
       "\n",
       "    .dataframe tbody tr th {\n",
       "        vertical-align: top;\n",
       "    }\n",
       "\n",
       "    .dataframe thead th {\n",
       "        text-align: right;\n",
       "    }\n",
       "</style>\n",
       "<table border=\"1\" class=\"dataframe\">\n",
       "  <thead>\n",
       "    <tr style=\"text-align: right;\">\n",
       "      <th></th>\n",
       "      <th>country</th>\n",
       "      <th>visa_type</th>\n",
       "      <th>number</th>\n",
       "    </tr>\n",
       "    <tr>\n",
       "      <th>date</th>\n",
       "      <th></th>\n",
       "      <th></th>\n",
       "      <th></th>\n",
       "    </tr>\n",
       "  </thead>\n",
       "  <tbody>\n",
       "    <tr>\n",
       "      <th>2017-03-01</th>\n",
       "      <td>Afghanistan</td>\n",
       "      <td>A1</td>\n",
       "      <td>14</td>\n",
       "    </tr>\n",
       "    <tr>\n",
       "      <th>2017-03-01</th>\n",
       "      <td>Afghanistan</td>\n",
       "      <td>A2</td>\n",
       "      <td>42</td>\n",
       "    </tr>\n",
       "    <tr>\n",
       "      <th>2017-03-01</th>\n",
       "      <td>Afghanistan</td>\n",
       "      <td>B1</td>\n",
       "      <td>1</td>\n",
       "    </tr>\n",
       "    <tr>\n",
       "      <th>2017-03-01</th>\n",
       "      <td>Afghanistan</td>\n",
       "      <td>B1/B2</td>\n",
       "      <td>87</td>\n",
       "    </tr>\n",
       "    <tr>\n",
       "      <th>2017-03-01</th>\n",
       "      <td>Afghanistan</td>\n",
       "      <td>F2</td>\n",
       "      <td>1</td>\n",
       "    </tr>\n",
       "  </tbody>\n",
       "</table>\n",
       "</div>"
      ],
      "text/plain": [
       "                country visa_type  number\n",
       "date                                     \n",
       "2017-03-01  Afghanistan        A1      14\n",
       "2017-03-01  Afghanistan        A2      42\n",
       "2017-03-01  Afghanistan        B1       1\n",
       "2017-03-01  Afghanistan     B1/B2      87\n",
       "2017-03-01  Afghanistan        F2       1"
      ]
     },
     "execution_count": 19,
     "metadata": {},
     "output_type": "execute_result"
    }
   ],
   "source": [
    "master_df.head()"
   ]
  },
  {
   "cell_type": "code",
   "execution_count": 44,
   "metadata": {},
   "outputs": [
    {
     "data": {
      "text/html": [
       "<div>\n",
       "<style scoped>\n",
       "    .dataframe tbody tr th:only-of-type {\n",
       "        vertical-align: middle;\n",
       "    }\n",
       "\n",
       "    .dataframe tbody tr th {\n",
       "        vertical-align: top;\n",
       "    }\n",
       "\n",
       "    .dataframe thead th {\n",
       "        text-align: right;\n",
       "    }\n",
       "</style>\n",
       "<table border=\"1\" class=\"dataframe\">\n",
       "  <thead>\n",
       "    <tr style=\"text-align: right;\">\n",
       "      <th></th>\n",
       "      <th>country</th>\n",
       "      <th>visa_type</th>\n",
       "      <th>number</th>\n",
       "    </tr>\n",
       "    <tr>\n",
       "      <th>date</th>\n",
       "      <th></th>\n",
       "      <th></th>\n",
       "      <th></th>\n",
       "    </tr>\n",
       "  </thead>\n",
       "  <tbody>\n",
       "    <tr>\n",
       "      <th>2017-03-01</th>\n",
       "      <td>Afghanistan</td>\n",
       "      <td>A1</td>\n",
       "      <td>14</td>\n",
       "    </tr>\n",
       "    <tr>\n",
       "      <th>2017-03-01</th>\n",
       "      <td>Afghanistan</td>\n",
       "      <td>A2</td>\n",
       "      <td>42</td>\n",
       "    </tr>\n",
       "    <tr>\n",
       "      <th>2017-03-01</th>\n",
       "      <td>Afghanistan</td>\n",
       "      <td>B1</td>\n",
       "      <td>1</td>\n",
       "    </tr>\n",
       "    <tr>\n",
       "      <th>2017-03-01</th>\n",
       "      <td>Afghanistan</td>\n",
       "      <td>B1/B2</td>\n",
       "      <td>87</td>\n",
       "    </tr>\n",
       "    <tr>\n",
       "      <th>2017-03-01</th>\n",
       "      <td>Afghanistan</td>\n",
       "      <td>F2</td>\n",
       "      <td>1</td>\n",
       "    </tr>\n",
       "  </tbody>\n",
       "</table>\n",
       "</div>"
      ],
      "text/plain": [
       "                country visa_type  number\n",
       "date                                     \n",
       "2017-03-01  Afghanistan        A1      14\n",
       "2017-03-01  Afghanistan        A2      42\n",
       "2017-03-01  Afghanistan        B1       1\n",
       "2017-03-01  Afghanistan     B1/B2      87\n",
       "2017-03-01  Afghanistan        F2       1"
      ]
     },
     "execution_count": 44,
     "metadata": {},
     "output_type": "execute_result"
    }
   ],
   "source": [
    "master_df_old = pd.read_csv('master_df.csv', index_col = 'date')\n",
    "master_df_old.head()"
   ]
  },
  {
   "cell_type": "code",
   "execution_count": 43,
   "metadata": {},
   "outputs": [
    {
     "data": {
      "text/html": [
       "<div>\n",
       "<style scoped>\n",
       "    .dataframe tbody tr th:only-of-type {\n",
       "        vertical-align: middle;\n",
       "    }\n",
       "\n",
       "    .dataframe tbody tr th {\n",
       "        vertical-align: top;\n",
       "    }\n",
       "\n",
       "    .dataframe thead th {\n",
       "        text-align: right;\n",
       "    }\n",
       "</style>\n",
       "<table border=\"1\" class=\"dataframe\">\n",
       "  <thead>\n",
       "    <tr style=\"text-align: right;\">\n",
       "      <th></th>\n",
       "      <th>country</th>\n",
       "      <th>visa_type</th>\n",
       "      <th>number</th>\n",
       "    </tr>\n",
       "    <tr>\n",
       "      <th>date</th>\n",
       "      <th></th>\n",
       "      <th></th>\n",
       "      <th></th>\n",
       "    </tr>\n",
       "  </thead>\n",
       "  <tbody>\n",
       "    <tr>\n",
       "      <th>2017-03-01</th>\n",
       "      <td>Afghanistan</td>\n",
       "      <td>A1</td>\n",
       "      <td>14</td>\n",
       "    </tr>\n",
       "    <tr>\n",
       "      <th>2017-03-01</th>\n",
       "      <td>Afghanistan</td>\n",
       "      <td>A2</td>\n",
       "      <td>42</td>\n",
       "    </tr>\n",
       "    <tr>\n",
       "      <th>2017-03-01</th>\n",
       "      <td>Afghanistan</td>\n",
       "      <td>B1</td>\n",
       "      <td>1</td>\n",
       "    </tr>\n",
       "    <tr>\n",
       "      <th>2017-03-01</th>\n",
       "      <td>Afghanistan</td>\n",
       "      <td>B1/B2</td>\n",
       "      <td>87</td>\n",
       "    </tr>\n",
       "    <tr>\n",
       "      <th>2017-03-01</th>\n",
       "      <td>Afghanistan</td>\n",
       "      <td>F2</td>\n",
       "      <td>1</td>\n",
       "    </tr>\n",
       "  </tbody>\n",
       "</table>\n",
       "</div>"
      ],
      "text/plain": [
       "                country visa_type  number\n",
       "date                                     \n",
       "2017-03-01  Afghanistan        A1      14\n",
       "2017-03-01  Afghanistan        A2      42\n",
       "2017-03-01  Afghanistan        B1       1\n",
       "2017-03-01  Afghanistan     B1/B2      87\n",
       "2017-03-01  Afghanistan        F2       1"
      ]
     },
     "execution_count": 43,
     "metadata": {},
     "output_type": "execute_result"
    }
   ],
   "source": [
    "master_df.head()"
   ]
  },
  {
   "cell_type": "code",
   "execution_count": 41,
   "metadata": {},
   "outputs": [],
   "source": [
    "master_df.to_csv('master_df.csv', sep=',')"
   ]
  },
  {
   "cell_type": "code",
   "execution_count": 45,
   "metadata": {},
   "outputs": [],
   "source": [
    "country = 'Nepal'\n",
    "visa_type = 'F1'"
   ]
  },
  {
   "cell_type": "code",
   "execution_count": 58,
   "metadata": {},
   "outputs": [],
   "source": [
    "number = master_df[(master_df['country'] == country) & (master_df['visa_type'] == visa_type)]"
   ]
  },
  {
   "cell_type": "code",
   "execution_count": 59,
   "metadata": {},
   "outputs": [
    {
     "data": {
      "text/html": [
       "<div>\n",
       "<style scoped>\n",
       "    .dataframe tbody tr th:only-of-type {\n",
       "        vertical-align: middle;\n",
       "    }\n",
       "\n",
       "    .dataframe tbody tr th {\n",
       "        vertical-align: top;\n",
       "    }\n",
       "\n",
       "    .dataframe thead th {\n",
       "        text-align: right;\n",
       "    }\n",
       "</style>\n",
       "<table border=\"1\" class=\"dataframe\">\n",
       "  <thead>\n",
       "    <tr style=\"text-align: right;\">\n",
       "      <th></th>\n",
       "      <th>country</th>\n",
       "      <th>visa_type</th>\n",
       "      <th>number</th>\n",
       "    </tr>\n",
       "    <tr>\n",
       "      <th>date</th>\n",
       "      <th></th>\n",
       "      <th></th>\n",
       "      <th></th>\n",
       "    </tr>\n",
       "  </thead>\n",
       "  <tbody>\n",
       "    <tr>\n",
       "      <th>2017-03-01</th>\n",
       "      <td>Nepal</td>\n",
       "      <td>F1</td>\n",
       "      <td>36</td>\n",
       "    </tr>\n",
       "    <tr>\n",
       "      <th>2017-04-01</th>\n",
       "      <td>Nepal</td>\n",
       "      <td>F1</td>\n",
       "      <td>119</td>\n",
       "    </tr>\n",
       "    <tr>\n",
       "      <th>2017-05-01</th>\n",
       "      <td>Nepal</td>\n",
       "      <td>F1</td>\n",
       "      <td>451</td>\n",
       "    </tr>\n",
       "    <tr>\n",
       "      <th>2017-06-01</th>\n",
       "      <td>Nepal</td>\n",
       "      <td>F1</td>\n",
       "      <td>929</td>\n",
       "    </tr>\n",
       "    <tr>\n",
       "      <th>2017-07-01</th>\n",
       "      <td>Nepal</td>\n",
       "      <td>F1</td>\n",
       "      <td>560</td>\n",
       "    </tr>\n",
       "  </tbody>\n",
       "</table>\n",
       "</div>"
      ],
      "text/plain": [
       "           country visa_type  number\n",
       "date                                \n",
       "2017-03-01   Nepal        F1      36\n",
       "2017-04-01   Nepal        F1     119\n",
       "2017-05-01   Nepal        F1     451\n",
       "2017-06-01   Nepal        F1     929\n",
       "2017-07-01   Nepal        F1     560"
      ]
     },
     "execution_count": 59,
     "metadata": {},
     "output_type": "execute_result"
    }
   ],
   "source": [
    "number.head()"
   ]
  },
  {
   "cell_type": "code",
   "execution_count": 63,
   "metadata": {},
   "outputs": [
    {
     "data": {
      "text/html": [
       "<div>\n",
       "<style scoped>\n",
       "    .dataframe tbody tr th:only-of-type {\n",
       "        vertical-align: middle;\n",
       "    }\n",
       "\n",
       "    .dataframe tbody tr th {\n",
       "        vertical-align: top;\n",
       "    }\n",
       "\n",
       "    .dataframe thead th {\n",
       "        text-align: right;\n",
       "    }\n",
       "</style>\n",
       "<table border=\"1\" class=\"dataframe\">\n",
       "  <thead>\n",
       "    <tr style=\"text-align: right;\">\n",
       "      <th></th>\n",
       "      <th>country</th>\n",
       "      <th>visa_type</th>\n",
       "      <th>number</th>\n",
       "    </tr>\n",
       "    <tr>\n",
       "      <th>date</th>\n",
       "      <th></th>\n",
       "      <th></th>\n",
       "      <th></th>\n",
       "    </tr>\n",
       "  </thead>\n",
       "  <tbody>\n",
       "    <tr>\n",
       "      <th>2017-03-01</th>\n",
       "      <td>Afghanistan</td>\n",
       "      <td>A1</td>\n",
       "      <td>14</td>\n",
       "    </tr>\n",
       "    <tr>\n",
       "      <th>2017-03-01</th>\n",
       "      <td>Afghanistan</td>\n",
       "      <td>A2</td>\n",
       "      <td>42</td>\n",
       "    </tr>\n",
       "    <tr>\n",
       "      <th>2017-03-01</th>\n",
       "      <td>Afghanistan</td>\n",
       "      <td>B1</td>\n",
       "      <td>1</td>\n",
       "    </tr>\n",
       "    <tr>\n",
       "      <th>2017-03-01</th>\n",
       "      <td>Afghanistan</td>\n",
       "      <td>B1/B2</td>\n",
       "      <td>87</td>\n",
       "    </tr>\n",
       "    <tr>\n",
       "      <th>2017-03-01</th>\n",
       "      <td>Afghanistan</td>\n",
       "      <td>F2</td>\n",
       "      <td>1</td>\n",
       "    </tr>\n",
       "    <tr>\n",
       "      <th>...</th>\n",
       "      <td>...</td>\n",
       "      <td>...</td>\n",
       "      <td>...</td>\n",
       "    </tr>\n",
       "    <tr>\n",
       "      <th>2017-03-01</th>\n",
       "      <td>Zimbabwe</td>\n",
       "      <td>L1</td>\n",
       "      <td>1</td>\n",
       "    </tr>\n",
       "    <tr>\n",
       "      <th>2017-03-01</th>\n",
       "      <td>Zimbabwe</td>\n",
       "      <td>M1</td>\n",
       "      <td>1</td>\n",
       "    </tr>\n",
       "    <tr>\n",
       "      <th>2017-03-01</th>\n",
       "      <td>Zimbabwe</td>\n",
       "      <td>P1</td>\n",
       "      <td>1</td>\n",
       "    </tr>\n",
       "    <tr>\n",
       "      <th>2017-03-01</th>\n",
       "      <td>Zimbabwe</td>\n",
       "      <td>P3</td>\n",
       "      <td>6</td>\n",
       "    </tr>\n",
       "    <tr>\n",
       "      <th>2017-03-01</th>\n",
       "      <td>Zimbabwe</td>\n",
       "      <td>Q1</td>\n",
       "      <td>2</td>\n",
       "    </tr>\n",
       "  </tbody>\n",
       "</table>\n",
       "<p>3609 rows × 3 columns</p>\n",
       "</div>"
      ],
      "text/plain": [
       "                country visa_type  number\n",
       "date                                     \n",
       "2017-03-01  Afghanistan        A1      14\n",
       "2017-03-01  Afghanistan        A2      42\n",
       "2017-03-01  Afghanistan        B1       1\n",
       "2017-03-01  Afghanistan     B1/B2      87\n",
       "2017-03-01  Afghanistan        F2       1\n",
       "...                 ...       ...     ...\n",
       "2017-03-01     Zimbabwe        L1       1\n",
       "2017-03-01     Zimbabwe        M1       1\n",
       "2017-03-01     Zimbabwe        P1       1\n",
       "2017-03-01     Zimbabwe        P3       6\n",
       "2017-03-01     Zimbabwe        Q1       2\n",
       "\n",
       "[3609 rows x 3 columns]"
      ]
     },
     "execution_count": 63,
     "metadata": {},
     "output_type": "execute_result"
    }
   ],
   "source": [
    "master_df.loc['2017-03']"
   ]
  },
  {
   "cell_type": "code",
   "execution_count": null,
   "metadata": {},
   "outputs": [],
   "source": [
    "number = master_df[(master_df['country'] == country) & (master_df['visa_type'] == visa_type)]"
   ]
  }
 ],
 "metadata": {
  "kernelspec": {
   "display_name": "Python 3",
   "language": "python",
   "name": "python3"
  },
  "language_info": {
   "codemirror_mode": {
    "name": "ipython",
    "version": 3
   },
   "file_extension": ".py",
   "mimetype": "text/x-python",
   "name": "python",
   "nbconvert_exporter": "python",
   "pygments_lexer": "ipython3",
   "version": "3.8.3"
  }
 },
 "nbformat": 4,
 "nbformat_minor": 4
}

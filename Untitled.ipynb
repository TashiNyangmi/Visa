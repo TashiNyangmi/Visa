{
 "cells": [
  {
   "cell_type": "code",
   "execution_count": 2,
   "metadata": {},
   "outputs": [],
   "source": [
    "import pandas as pd\n",
    "df = pd.read_csv('data_cleaning/master_df.csv')"
   ]
  },
  {
   "cell_type": "code",
   "execution_count": 3,
   "metadata": {},
   "outputs": [
    {
     "data": {
      "text/html": [
       "<div>\n",
       "<style scoped>\n",
       "    .dataframe tbody tr th:only-of-type {\n",
       "        vertical-align: middle;\n",
       "    }\n",
       "\n",
       "    .dataframe tbody tr th {\n",
       "        vertical-align: top;\n",
       "    }\n",
       "\n",
       "    .dataframe thead th {\n",
       "        text-align: right;\n",
       "    }\n",
       "</style>\n",
       "<table border=\"1\" class=\"dataframe\">\n",
       "  <thead>\n",
       "    <tr style=\"text-align: right;\">\n",
       "      <th></th>\n",
       "      <th>date</th>\n",
       "      <th>country</th>\n",
       "      <th>visa_type</th>\n",
       "      <th>number</th>\n",
       "    </tr>\n",
       "  </thead>\n",
       "  <tbody>\n",
       "    <tr>\n",
       "      <th>0</th>\n",
       "      <td>2017-03-01</td>\n",
       "      <td>Afghanistan</td>\n",
       "      <td>A1</td>\n",
       "      <td>14</td>\n",
       "    </tr>\n",
       "    <tr>\n",
       "      <th>1</th>\n",
       "      <td>2017-03-01</td>\n",
       "      <td>Afghanistan</td>\n",
       "      <td>A2</td>\n",
       "      <td>42</td>\n",
       "    </tr>\n",
       "    <tr>\n",
       "      <th>2</th>\n",
       "      <td>2017-03-01</td>\n",
       "      <td>Afghanistan</td>\n",
       "      <td>B1</td>\n",
       "      <td>1</td>\n",
       "    </tr>\n",
       "    <tr>\n",
       "      <th>3</th>\n",
       "      <td>2017-03-01</td>\n",
       "      <td>Afghanistan</td>\n",
       "      <td>B1/B2</td>\n",
       "      <td>87</td>\n",
       "    </tr>\n",
       "    <tr>\n",
       "      <th>4</th>\n",
       "      <td>2017-03-01</td>\n",
       "      <td>Afghanistan</td>\n",
       "      <td>F2</td>\n",
       "      <td>1</td>\n",
       "    </tr>\n",
       "  </tbody>\n",
       "</table>\n",
       "</div>"
      ],
      "text/plain": [
       "         date      country visa_type  number\n",
       "0  2017-03-01  Afghanistan        A1      14\n",
       "1  2017-03-01  Afghanistan        A2      42\n",
       "2  2017-03-01  Afghanistan        B1       1\n",
       "3  2017-03-01  Afghanistan     B1/B2      87\n",
       "4  2017-03-01  Afghanistan        F2       1"
      ]
     },
     "execution_count": 3,
     "metadata": {},
     "output_type": "execute_result"
    }
   ],
   "source": [
    "df.head()"
   ]
  },
  {
   "cell_type": "code",
   "execution_count": null,
   "metadata": {},
   "outputs": [],
   "source": [
    "visa_filter()"
   ]
  },
  {
   "cell_type": "code",
   "execution_count": 1,
   "metadata": {},
   "outputs": [],
   "source": [
    "def visa_filter(returned_country, returned_year, returned_month, returned_visa_type):\n",
    "    \"\"\"filter the master_df.csv based on the given filters\"\"\"\n",
    "\n",
    "    def wrangle_master_df():\n",
    "        \"\"\" wrangle master_df for convenient filtering\"\"\"\n",
    "\n",
    "        import pandas as pd\n",
    "        master_df = pd.read_csv('data_cleaning/master_df.csv', index_col='date')\n",
    "        # Filtering data from master_df\n",
    "        # - creating columns year and month out of the date index\n",
    "        master_df.reset_index(inplace=True)  # convert index column:date to regular column:date\n",
    "        master_df['date'] = pd.to_datetime(master_df['date'])  # convert datatype from string to datetime\n",
    "        master_df['year'] = pd.DatetimeIndex(master_df['date']).year  # extract year number\n",
    "        master_df['month'] = pd.DatetimeIndex(master_df['date']).month  # extract month number\n",
    "        master_df['month'] = pd.to_datetime(master_df['month'],\n",
    "                                            format='%m').dt.month_name()  # convert month number to month name\n",
    "        master_df['month'] = master_df['month'].str.lower()  # lower case month names for consistency\n",
    "        master_df.set_index('date', inplace=True)  # assign column:date as index\n",
    "        return master_df\n",
    "\n",
    "    def filtering():\n",
    "        \"\"\" actual filtering\"\"\"\n",
    "        master_df = wrangle_master_df()\n",
    "        result = master_df.copy().reset_index(drop=True) # drop the datetime index\n",
    "        cols = list(result.columns)\n",
    "\n",
    "        if returned_country != 'all':\n",
    "            result = result[result['country'] == returned_country]\n",
    "            cols.remove('country')\n",
    "\n",
    "        if returned_month != 'all':\n",
    "            result = result[result['month'] == returned_month]\n",
    "            cols.remove('month')\n",
    "\n",
    "        if returned_year != 'all':\n",
    "            result = result[result['year'] == int(returned_year)]\n",
    "            cols.remove('year')\n",
    "\n",
    "        if returned_visa_type != 'all':\n",
    "            result = result[result['visa_type'] == returned_visa_type]\n",
    "            cols.remove('visa_type')\n",
    "\n",
    "        result = result[cols].reset_index(drop=True)\n",
    "        return result\n",
    "\n",
    "    return filtering()  # returns a DataFrame\n"
   ]
  },
  {
   "cell_type": "code",
   "execution_count": null,
   "metadata": {},
   "outputs": [],
   "source": []
  }
 ],
 "metadata": {
  "kernelspec": {
   "display_name": "Python 3",
   "language": "python",
   "name": "python3"
  },
  "language_info": {
   "codemirror_mode": {
    "name": "ipython",
    "version": 3
   },
   "file_extension": ".py",
   "mimetype": "text/x-python",
   "name": "python",
   "nbconvert_exporter": "python",
   "pygments_lexer": "ipython3",
   "version": "3.8.3"
  }
 },
 "nbformat": 4,
 "nbformat_minor": 4
}

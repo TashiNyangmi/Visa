{
 "cells": [
  {
   "cell_type": "markdown",
   "metadata": {},
   "source": [
    "### Filtering using boolean masks"
   ]
  },
  {
   "cell_type": "code",
   "execution_count": 32,
   "metadata": {},
   "outputs": [],
   "source": [
    "def visa_filter(returned_country, returned_year, returned_month, returned_visa_type): # READY\n",
    "    \"\"\"filter the master_df.csv based on the given filters\"\"\"\n",
    "\n",
    "    def wrangle_master_df():\n",
    "        \"\"\" wrangle master_df for convenient filtering\"\"\"\n",
    "\n",
    "        import pandas as pd\n",
    "        master_df = pd.read_csv('data_cleaning/master_df.csv', index_col='date')\n",
    "        # Filtering data from master_df\n",
    "        # - creating columns year and month out of the date index\n",
    "        master_df.reset_index(inplace=True)  # convert index column:date to regular column:date\n",
    "        master_df['date'] = pd.to_datetime(master_df['date'])  # convert datatype from string to datetime\n",
    "        master_df['year'] = pd.DatetimeIndex(master_df['date']).year  # extract year number\n",
    "        master_df['month'] = pd.DatetimeIndex(master_df['date']).month  # extract month number\n",
    "        master_df['month'] = pd.to_datetime(master_df['month'],\n",
    "                                            format='%m').dt.month_name()  # convert month number to month name\n",
    "        master_df['month'] = master_df['month'].str.lower()  # lower case month names for consistency\n",
    "        master_df.set_index('date', inplace=True)  # assign column:date as index\n",
    "        return master_df\n",
    "\n",
    "    def filtering():\n",
    "        \"\"\" actual filtering\"\"\"\n",
    "        master_df = wrangle_master_df()\n",
    "        result = master_df.copy().reset_index(drop=True) # drop the datetime index\n",
    "        cols = list(result.columns)\n",
    "\n",
    "        if returned_country != 'all':\n",
    "            result = result[result['country'] == returned_country]\n",
    "            cols.remove('country')\n",
    "\n",
    "        if returned_month != 'all':\n",
    "            result = result[result['month'] == returned_month]\n",
    "            cols.remove('month')\n",
    "\n",
    "        if returned_year != 'all':\n",
    "            result = result[result['year'] == int(returned_year)]\n",
    "            cols.remove('year')\n",
    "\n",
    "        if returned_visa_type != 'all':\n",
    "            result = result[result['visa_type'] == returned_visa_type]\n",
    "            cols.remove('visa_type')\n",
    "\n",
    "        result = result[cols].reset_index(drop=True)\n",
    "        return result\n",
    "\n",
    "    return filtering()  # returns a DataFrame\n"
   ]
  },
  {
   "cell_type": "code",
   "execution_count": 62,
   "metadata": {},
   "outputs": [],
   "source": [
    "def visa_filter2(returned_country, returned_year, returned_month, returned_visa_type): # READY\n",
    "    \"\"\"filter the master_df.csv based on the given filters\"\"\"\n",
    "    import pandas as pd\n",
    "    master_df= pd.read_csv('data_cleaning/master_df.csv', index_col = 'date' , parse_dates = True)\n",
    "    \n",
    "    # defining boolean_masks for filtering\n",
    "    if returned_year == 'all':\n",
    "        year_boolean_mask = master_df.index.strftime('%Y') == master_df.index.strftime('%Y')\n",
    "    else: # filter by returned_year\n",
    "         year_boolean_mask = master_df.index.strftime('%Y') == returned_year\n",
    "\n",
    "    if returned_month =='all':\n",
    "        month_boolean_mask = master_df.index.strftime('%B').str.lower() == master_df.index.strftime('%B').str.lower()\n",
    "    else:\n",
    "        month_boolean_mask = master_df.index.strftime('%B').str.lower() == returned_month.lower()\n",
    "\n",
    "    if returned_country == 'all':\n",
    "        country_boolean_mask = master_df['country'].str.lower() == master_df['country'].str.lower()\n",
    "    else:\n",
    "        country_boolean_mask = master_df['country'].str.lower() == returned_country.lower()\n",
    "\n",
    "    if returned_visa_type == 'all':\n",
    "        visa_type_boolean_mask = master_df['visa_type'].str.lower() == master_df['visa_type'].str.lower()\n",
    "    else:\n",
    "        visa_type_boolean_mask = master_df['visa_type'].str.lower() == returned_visa_type.lower()\n",
    "         \n",
    "    result = master_df[year_boolean_mask & month_boolean_mask & country_boolean_mask & visa_type_boolean_mask]\n",
    "    \n",
    "    return result"
   ]
  },
  {
   "cell_type": "markdown",
   "metadata": {},
   "source": [
    "## TEST"
   ]
  },
  {
   "cell_type": "code",
   "execution_count": 65,
   "metadata": {},
   "outputs": [],
   "source": [
    "# test input\n",
    "returned_years = ['2017', 'all']\n",
    "returned_months = ['march','all']\n",
    "returned_countrys = ['Nepal','all']\n",
    "returned_visa_types = ['F1', 'all']"
   ]
  },
  {
   "cell_type": "code",
   "execution_count": 68,
   "metadata": {},
   "outputs": [],
   "source": [
    "a = []\n",
    "for returned_year in returned_years:\n",
    "    for returned_month in returned_months:\n",
    "        for returned_country in returned_countrys:\n",
    "            for returned_visa_type in returned_visa_types:\n",
    "                a.append(len(visa_filter(returned_country, returned_year, returned_month, returned_visa_type)))         "
   ]
  },
  {
   "cell_type": "code",
   "execution_count": 69,
   "metadata": {},
   "outputs": [],
   "source": [
    "b = []\n",
    "for returned_year in returned_years:\n",
    "    for returned_month in returned_months:\n",
    "        for returned_country in returned_countrys:\n",
    "            for returned_visa_type in returned_visa_types:\n",
    "                b.append(len(visa_filter2(returned_country, returned_year, returned_month, returned_visa_type)))         "
   ]
  },
  {
   "cell_type": "code",
   "execution_count": null,
   "metadata": {},
   "outputs": [],
   "source": []
  }
 ],
 "metadata": {
  "kernelspec": {
   "display_name": "Python 3",
   "language": "python",
   "name": "python3"
  },
  "language_info": {
   "codemirror_mode": {
    "name": "ipython",
    "version": 3
   },
   "file_extension": ".py",
   "mimetype": "text/x-python",
   "name": "python",
   "nbconvert_exporter": "python",
   "pygments_lexer": "ipython3",
   "version": "3.8.3"
  }
 },
 "nbformat": 4,
 "nbformat_minor": 4
}

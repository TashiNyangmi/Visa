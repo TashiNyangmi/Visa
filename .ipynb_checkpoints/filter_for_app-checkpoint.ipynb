{
 "cells": [
  {
   "cell_type": "markdown",
   "metadata": {},
   "source": [
    "### Filtering using boolean masks"
   ]
  },
  {
   "cell_type": "code",
   "execution_count": 122,
   "metadata": {},
   "outputs": [],
   "source": [
    "def visa_filter(returned_country, returned_year, returned_month, returned_visa_type):\n",
    "    \"\"\"filter the master_df.csv based on the given filters\"\"\"\n",
    "\n",
    "    def wrangle_master_df():\n",
    "        \"\"\" wrangle master_df for convenient filtering\"\"\"\n",
    "\n",
    "        import pandas as pd\n",
    "        master_df = pd.read_csv('data_cleaning/master_df.csv', index_col='date')\n",
    "        # Filtering data from master_df\n",
    "        # - creating columns year and month out of the date index\n",
    "        master_df.reset_index(inplace=True)  # convert index column:date to regular column:date\n",
    "        master_df['date'] = pd.to_datetime(master_df['date'])  # convert datatype from string to datetime\n",
    "        master_df['year'] = pd.DatetimeIndex(master_df['date']).year  # extract year number\n",
    "        master_df['month'] = pd.DatetimeIndex(master_df['date']).month  # extract month number\n",
    "        master_df['month'] = pd.to_datetime(master_df['month'],\n",
    "                                            format='%m').dt.month_name()  # convert month number to month name\n",
    "        master_df['month'] = master_df['month'].str.lower()  # lower case month names for consistency\n",
    "        master_df.set_index('date', inplace=True)  # assign column:date as index\n",
    "        return master_df\n",
    "\n",
    "    def filtering():\n",
    "        \"\"\" actual filtering\"\"\"\n",
    "        master_df = wrangle_master_df()\n",
    "        result = master_df.copy().reset_index(drop=True) # drop the datetime index\n",
    "        cols = list(result.columns)\n",
    "\n",
    "        if returned_country != 'all':\n",
    "            result = result[result['country'] == returned_country]\n",
    "            cols.remove('country')\n",
    "\n",
    "        if returned_month != 'all':\n",
    "            result = result[result['month'] == returned_month]\n",
    "            cols.remove('month')\n",
    "\n",
    "        if returned_year != 'all':\n",
    "            result = result[result['year'] == int(returned_year)]\n",
    "            cols.remove('year')\n",
    "\n",
    "        if returned_visa_type != 'all':\n",
    "            result = result[result['visa_type'] == returned_visa_type]\n",
    "            cols.remove('visa_type')\n",
    "\n",
    "        result = result[cols].reset_index(drop=True)\n",
    "        return result\n",
    "\n",
    "    return filtering()  # returns a DataFrame\n"
   ]
  },
  {
   "cell_type": "markdown",
   "metadata": {},
   "source": [
    "## Filtering II (Using index) : WIP"
   ]
  },
  {
   "cell_type": "code",
   "execution_count": 198,
   "metadata": {},
   "outputs": [],
   "source": [
    "import pandas as pd\n",
    "master_df = pd.read_csv('data_cleaning/master_df.csv', index_col='date', parse_dates = True)\n",
    "\n",
    "master_df = master_df.reset_index().set_index(['date','country', 'visa_type'])\n",
    "\n",
    "# Handling for all options\n",
    "\n",
    "if returned_country == 'all':\n",
    "    returned_country = slice(None) # equivalent of ':' for multiindex\n",
    "if returned_visa_type == 'all':\n",
    "    returned_visa_type = slice(None)\n",
    "\n",
    "# for specific year, but all months\n",
    "if (returned_year != 'all') & (returned_month.lower() == 'all'):\n",
    "    date = f'{returned_year}'\n",
    "    # Actual filtering\n",
    "\n",
    "if (returned_year != 'all') & (returned_month == 'all'):\n",
    "    result = master_df.loc[ (date, returned_country, returned_visa_type) ,:]\n",
    "else:\n",
    "    result = master_df.loc[ (slice(None), returned_country, returned_visa_type) ,:]\n",
    "    # filtering my month by ignoring the year\n",
    "    result = result.reset_index().set_index(['date'])\n",
    "    import datetime\n",
    "    month_name = returned_month[0:3]\n",
    "    month_number = datetime.datetime.strptime(month_name, \"%b\").month\n",
    "    result = result[result.index.month.isin([month_number])]\n",
    "# WIP"
   ]
  },
  {
   "cell_type": "markdown",
   "metadata": {},
   "source": [
    "## Filtering IIA (Using Index & strftime())"
   ]
  },
  {
   "cell_type": "code",
   "execution_count": 120,
   "metadata": {},
   "outputs": [],
   "source": [
    "def visa_filter2(returned_country, returned_year, returned_month, returned_visa_type):\n",
    "    \"\"\"filter the master_df.csv based on the given filters\"\"\"\n",
    "    import pandas as pd\n",
    "    master_df= pd.read_csv('data_cleaning/master_df.csv', index_col = 'date' , parse_dates = True)\n",
    "    \n",
    "    # defining boolean_masks for filtering\n",
    "    if returned_year == 'all':\n",
    "        year_boolean_mask = master_df.index.strftime('%Y') == master_df.index.strftime('%Y')\n",
    "    else: # filter by returned_year\n",
    "         year_boolean_mask = master_df.index.strftime('%Y') == returned_year\n",
    "\n",
    "    if returned_month =='all':\n",
    "        month_boolean_mask = master_df.index.strftime('%B').str.lower() == master_df.index.strftime('%B').str.lower()\n",
    "    else:\n",
    "        month_boolean_mask = master_df.index.strftime('%B').str.lower() == returned_month.lower()\n",
    "\n",
    "    if returned_country == 'all':\n",
    "        country_boolean_mask = master_df['country'].str.lower() == master_df['country'].str.lower()\n",
    "    else:\n",
    "        country_boolean_mask = master_df['country'].str.lower() == returned_country.lower()\n",
    "\n",
    "    if returned_visa_type == 'all':\n",
    "        visa_type_boolean_mask = master_df['visa_type'].str.lower() == master_df['visa_type'].str.lower()\n",
    "    else:\n",
    "        visa_type_boolean_mask = master_df['visa_type'].str.lower() == returned_visa_type.lower()\n",
    "         \n",
    "    result = master_df[year_boolean_mask & month_boolean_mask & country_boolean_mask & visa_type_boolean_mask]\n",
    "    \n",
    "    return result\n",
    "\n",
    "    "
   ]
  },
  {
   "cell_type": "code",
   "execution_count": 123,
   "metadata": {},
   "outputs": [],
   "source": [
    "def visa_filter3(returned_country, returned_year, returned_month, returned_visa_type):\n",
    "    \"\"\"filter the master_df.csv based on the given filters\"\"\"\n",
    "    import pandas as pd\n",
    "    master_df= pd.read_csv('data_cleaning/master_df.csv', index_col = 'date' , parse_dates = True)\n",
    "\n",
    "    # defining boolean_masks for filtering\n",
    "    year_boolean_mask = master_df.index.strftime('%Y') == returned_year\n",
    "    month_boolean_mask = master_df.index.strftime('%B').str.lower() == returned_month.lower()\n",
    "    country_boolean_mask = master_df['country'].str.lower() == returned_country.lower()\n",
    "    visa_type_boolean_mask = master_df['visa_type'].str.lower() == returned_visa_type.lower()\n",
    "\n",
    "    #Note: For 'all' options, boolean_array has all 0s (Falses)\n",
    "    masks = [year_boolean_mask, month_boolean_mask, country_boolean_mask, visa_type_boolean_mask]\n",
    "    import numpy as np\n",
    "    def refine_masks (mask):\n",
    "        if mask.sum() == 0:\n",
    "            return np.ones(len(master_df))\n",
    "        return mask\n",
    "\n",
    "    refined_masks = [refine_masks(mask) for mask in masks]\n",
    "    year_boolean_mask = refined_masks[0]\n",
    "    month_boolean_mask = refined_masks[1]\n",
    "    country_boolean_mask  = refined_masks[2]\n",
    "    visa_type_boolean_mask  = refined_masks[3]\n",
    "        \n",
    "    result = master_df[year_boolean_mask & month_boolean_mask & country_boolean_mask & visa_type_boolean_mask]\n",
    "    \n",
    "    \n",
    "    return result\n",
    "\n",
    "    "
   ]
  },
  {
   "cell_type": "markdown",
   "metadata": {},
   "source": [
    "# TESTING/ COMPARING"
   ]
  },
  {
   "cell_type": "code",
   "execution_count": 130,
   "metadata": {},
   "outputs": [],
   "source": [
    "# test input\n",
    "returned_year = '2017'\n",
    "returned_month = 'march'\n",
    "returned_country = 'Japan'\n",
    "returned_visa_type = 'F1'\n",
    "date = f'{returned_year}-{returned_month}' # all months all years"
   ]
  },
  {
   "cell_type": "code",
   "execution_count": 131,
   "metadata": {},
   "outputs": [
    {
     "data": {
      "text/html": [
       "<div>\n",
       "<style scoped>\n",
       "    .dataframe tbody tr th:only-of-type {\n",
       "        vertical-align: middle;\n",
       "    }\n",
       "\n",
       "    .dataframe tbody tr th {\n",
       "        vertical-align: top;\n",
       "    }\n",
       "\n",
       "    .dataframe thead th {\n",
       "        text-align: right;\n",
       "    }\n",
       "</style>\n",
       "<table border=\"1\" class=\"dataframe\">\n",
       "  <thead>\n",
       "    <tr style=\"text-align: right;\">\n",
       "      <th></th>\n",
       "      <th>number</th>\n",
       "    </tr>\n",
       "  </thead>\n",
       "  <tbody>\n",
       "    <tr>\n",
       "      <th>0</th>\n",
       "      <td>951</td>\n",
       "    </tr>\n",
       "  </tbody>\n",
       "</table>\n",
       "</div>"
      ],
      "text/plain": [
       "   number\n",
       "0     951"
      ]
     },
     "execution_count": 131,
     "metadata": {},
     "output_type": "execute_result"
    }
   ],
   "source": [
    "visa_filter(returned_country, returned_year, returned_month, returned_visa_type)"
   ]
  },
  {
   "cell_type": "code",
   "execution_count": 132,
   "metadata": {},
   "outputs": [
    {
     "data": {
      "text/html": [
       "<div>\n",
       "<style scoped>\n",
       "    .dataframe tbody tr th:only-of-type {\n",
       "        vertical-align: middle;\n",
       "    }\n",
       "\n",
       "    .dataframe tbody tr th {\n",
       "        vertical-align: top;\n",
       "    }\n",
       "\n",
       "    .dataframe thead th {\n",
       "        text-align: right;\n",
       "    }\n",
       "</style>\n",
       "<table border=\"1\" class=\"dataframe\">\n",
       "  <thead>\n",
       "    <tr style=\"text-align: right;\">\n",
       "      <th></th>\n",
       "      <th>country</th>\n",
       "      <th>visa_type</th>\n",
       "      <th>number</th>\n",
       "    </tr>\n",
       "    <tr>\n",
       "      <th>date</th>\n",
       "      <th></th>\n",
       "      <th></th>\n",
       "      <th></th>\n",
       "    </tr>\n",
       "  </thead>\n",
       "  <tbody>\n",
       "    <tr>\n",
       "      <th>2017-03-01</th>\n",
       "      <td>Japan</td>\n",
       "      <td>F1</td>\n",
       "      <td>951</td>\n",
       "    </tr>\n",
       "  </tbody>\n",
       "</table>\n",
       "</div>"
      ],
      "text/plain": [
       "           country visa_type  number\n",
       "date                                \n",
       "2017-03-01   Japan        F1     951"
      ]
     },
     "execution_count": 132,
     "metadata": {},
     "output_type": "execute_result"
    }
   ],
   "source": [
    "visa_filter2(returned_country, returned_year, returned_month, returned_visa_type)"
   ]
  },
  {
   "cell_type": "code",
   "execution_count": null,
   "metadata": {},
   "outputs": [],
   "source": []
  }
 ],
 "metadata": {
  "kernelspec": {
   "display_name": "Python 3",
   "language": "python",
   "name": "python3"
  },
  "language_info": {
   "codemirror_mode": {
    "name": "ipython",
    "version": 3
   },
   "file_extension": ".py",
   "mimetype": "text/x-python",
   "name": "python",
   "nbconvert_exporter": "python",
   "pygments_lexer": "ipython3",
   "version": "3.8.3"
  }
 },
 "nbformat": 4,
 "nbformat_minor": 4
}

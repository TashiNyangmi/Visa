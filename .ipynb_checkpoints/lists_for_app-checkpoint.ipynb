{
 "cells": [
  {
   "cell_type": "markdown",
   "metadata": {},
   "source": [
    "## Actual Code Starts"
   ]
  },
  {
   "cell_type": "code",
   "execution_count": null,
   "metadata": {},
   "outputs": [],
   "source": [
    "def lists():\n",
    "    import pandas as pd\n",
    "    master_df = pd.read_csv('data_cleaning/master_df.csv')\n",
    "    countries = list(master_df['country'].unique())\n",
    "    years = ['2017', '2018', '2019', '2020']\n",
    "    months = ['january', 'february', 'march', 'april', 'may', 'june', 'july', 'august', 'september',\n",
    "              'october', 'november', 'december']\n",
    "    visa_types = list(master_df['visa_type'].unique())\n",
    "\n",
    "    # adding the option to view all to each filter category\n",
    "    countries.insert(0, 'all')\n",
    "    years.insert(0, 'all')\n",
    "    months.insert(0, 'all')\n",
    "    visa_types.insert(0, 'all')\n",
    "\n",
    "    return sorted(countries), years, months, sorted(visa_types)  # returns lists\n"
   ]
  },
  {
   "cell_type": "markdown",
   "metadata": {},
   "source": [
    "## Actual Code Ends"
   ]
  },
  {
   "cell_type": "code",
   "execution_count": 2,
   "metadata": {},
   "outputs": [],
   "source": [
    "import pandas as pd\n",
    "master_df = pd.read_csv('data_cleaning/master_df.csv')\n",
    "countries = list(master_df['country'].unique())\n",
    "years = ['2017', '2018', '2019', '2020']\n",
    "months = ['january', 'february', 'march', 'april', 'may', 'june', 'july', 'august', 'september',\n",
    "          'october', 'november', 'december']\n",
    "visa_types = list(master_df['visa_type'].unique())\n",
    "\n",
    "# adding the option to view all to each filter category\n",
    "countries.insert(0, 'all')\n",
    "years.insert(0, 'all')\n",
    "months.insert(0, 'all')\n",
    "visa_types.insert(0, 'all')"
   ]
  },
  {
   "cell_type": "code",
   "execution_count": 5,
   "metadata": {},
   "outputs": [
    {
     "data": {
      "text/plain": [
       "['A1',\n",
       " 'A2',\n",
       " 'A3',\n",
       " 'B1',\n",
       " 'B1/B2',\n",
       " 'B2',\n",
       " 'BBBCC',\n",
       " 'BBBCV',\n",
       " 'C1',\n",
       " 'C1/D',\n",
       " 'C2',\n",
       " 'C3',\n",
       " 'CW1',\n",
       " 'CW2',\n",
       " 'D',\n",
       " 'E1',\n",
       " 'E2',\n",
       " 'E2C',\n",
       " 'E3',\n",
       " 'E3D',\n",
       " 'E3R',\n",
       " 'F1',\n",
       " 'F2',\n",
       " 'G1',\n",
       " 'G2',\n",
       " 'G3',\n",
       " 'G4',\n",
       " 'G5',\n",
       " 'H1B',\n",
       " 'H1B1',\n",
       " 'H1C',\n",
       " 'H2A',\n",
       " 'H2B',\n",
       " 'H3',\n",
       " 'H4',\n",
       " 'I',\n",
       " 'J1',\n",
       " 'J2',\n",
       " 'K1',\n",
       " 'K2',\n",
       " 'K3',\n",
       " 'K4',\n",
       " 'L1',\n",
       " 'L2',\n",
       " 'M1',\n",
       " 'M2',\n",
       " 'N8',\n",
       " 'N9',\n",
       " 'NATO1',\n",
       " 'NATO2',\n",
       " 'NATO4',\n",
       " 'NATO5',\n",
       " 'NATO6',\n",
       " 'NATO7',\n",
       " 'O1',\n",
       " 'O2',\n",
       " 'O3',\n",
       " 'P1',\n",
       " 'P2',\n",
       " 'P3',\n",
       " 'P4',\n",
       " 'Q1',\n",
       " 'R1',\n",
       " 'R2',\n",
       " 'S7',\n",
       " 'T2',\n",
       " 'T3',\n",
       " 'T4',\n",
       " 'T5',\n",
       " 'T6',\n",
       " 'TD',\n",
       " 'TN',\n",
       " 'U1',\n",
       " 'U2',\n",
       " 'U3',\n",
       " 'U4',\n",
       " 'U5',\n",
       " 'all']"
      ]
     },
     "execution_count": 5,
     "metadata": {},
     "output_type": "execute_result"
    }
   ],
   "source": []
  },
  {
   "cell_type": "code",
   "execution_count": null,
   "metadata": {},
   "outputs": [],
   "source": []
  }
 ],
 "metadata": {
  "kernelspec": {
   "display_name": "Python 3",
   "language": "python",
   "name": "python3"
  },
  "language_info": {
   "codemirror_mode": {
    "name": "ipython",
    "version": 3
   },
   "file_extension": ".py",
   "mimetype": "text/x-python",
   "name": "python",
   "nbconvert_exporter": "python",
   "pygments_lexer": "ipython3",
   "version": "3.8.3"
  }
 },
 "nbformat": 4,
 "nbformat_minor": 4
}
